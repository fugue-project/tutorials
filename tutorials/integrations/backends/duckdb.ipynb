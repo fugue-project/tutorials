{
 "cells": [
  {
   "cell_type": "markdown",
   "metadata": {},
   "source": [
    "# Fugue with DuckDB\n",
    "\n",
    "[DuckDB](https://duckdb.org/) is an in-process SQL OLAP database management system. The speed is very good on even gigabytes of data on local machines.\n",
    "Fugue has a deep integration with DuckDB. Fugue not only uses DuckDB as the SQL engine, but also implemented all [execution engine](../advanced/execution_engine.ipynb) methods using DuckDB SQL and relations. So in most part of the workflow, the data tables are kept in DuckDB and in rare cases\n",
    "the tables will be materialized and converted to arrow dataframes. Note this [blog](https://duckdb.org/2021/12/03/duck-arrow.html) explains that converting\n",
    "between DuckDB and Arrow has minimal overhead."
   ]
  },
  {
   "cell_type": "markdown",
   "metadata": {},
   "source": [
    "## Installation\n",
    "\n",
    "```bash\n",
    "pip install fugue[duckdb,sql]\n",
    "```\n",
    "\n",
    "## Hello World\n",
    "\n",
    "To use it prgrammatically, you only need to"
   ]
  },
  {
   "cell_type": "code",
   "execution_count": 1,
   "metadata": {},
   "outputs": [],
   "source": [
    "import fugue_duckdb"
   ]
  },
  {
   "cell_type": "markdown",
   "metadata": {},
   "source": [
    "This is to register all the types and execution engines of DuckDB. Then you can write a hello world:"
   ]
  },
  {
   "cell_type": "code",
   "execution_count": 2,
   "metadata": {},
   "outputs": [
    {
     "name": "stdout",
     "output_type": "stream",
     "text": [
      "DuckDataFrame\n",
      "a:long|b:long\n",
      "------+------\n",
      "0     |10    \n",
      "1     |50    \n",
      "2     |40    \n",
      "Total count: 3\n",
      "\n"
     ]
    },
    {
     "data": {
      "text/plain": [
       "DataFrames()"
      ]
     },
     "execution_count": 2,
     "metadata": {},
     "output_type": "execute_result"
    }
   ],
   "source": [
    "from fugue_sql import fsql\n",
    "import pandas as pd\n",
    "\n",
    "df = pd.DataFrame(dict(a=[0,1,1,2], b=[10,20,30,40]))\n",
    "\n",
    "fsql(\"\"\"\n",
    "SELECT a, SUM(b) AS b FROM df GROUP BY a\n",
    "PRINT\n",
    "\"\"\", df=df).run(\"duckdb\")"
   ]
  },
  {
   "cell_type": "markdown",
   "metadata": {},
   "source": [
    "Now, let's consider the notebook use case"
   ]
  },
  {
   "cell_type": "code",
   "execution_count": 3,
   "metadata": {},
   "outputs": [
    {
     "data": {
      "application/javascript": "\nrequire([\"codemirror/lib/codemirror\"]);\nfunction set(str) {\n    var obj = {}, words = str.split(\" \");\n    for (var i = 0; i < words.length; ++i) obj[words[i]] = true;\n    return obj;\n  }\nvar fugue_keywords = \"fill hash rand even presort persist broadcast params process output outtransform rowcount concurrency prepartition zip print title save append parquet csv json single checkpoint weak strong deterministic yield connect sample seed take sub callback dataframe file\";\nCodeMirror.defineMIME(\"text/x-fsql\", {\n    name: \"sql\",\n    keywords: set(fugue_keywords + \" add after all alter analyze and anti archive array as asc at between bucket buckets by cache cascade case cast change clear cluster clustered codegen collection column columns comment commit compact compactions compute concatenate cost create cross cube current current_date current_timestamp database databases data dbproperties defined delete delimited deny desc describe dfs directories distinct distribute drop else end escaped except exchange exists explain export extended external false fields fileformat first following for format formatted from full function functions global grant group grouping having if ignore import in index indexes inner inpath inputformat insert intersect interval into is items join keys last lateral lazy left like limit lines list load local location lock locks logical macro map minus msck natural no not null nulls of on optimize option options or order out outer outputformat over overwrite partition partitioned partitions percent preceding principals purge range recordreader recordwriter recover reduce refresh regexp rename repair replace reset restrict revoke right rlike role roles rollback rollup row rows schema schemas select semi separated serde serdeproperties set sets show skewed sort sorted start statistics stored stratify struct table tables tablesample tblproperties temp temporary terminated then to touch transaction transactions transform true truncate unarchive unbounded uncache union unlock unset use using values view when where window with\"),\n    builtin: set(\"date datetime tinyint smallint int bigint boolean float double string binary timestamp decimal array map struct uniontype delimited serde sequencefile textfile rcfile inputformat outputformat\"),\n    atoms: set(\"false true null\"),\n    operatorChars: /^[*\\/+\\-%<>!=~&|^]/,\n    dateSQL: set(\"time\"),\n    support: set(\"ODBCdotTable doubleQuote zerolessFloat\")\n  });\n\nCodeMirror.modeInfo.push( {\n            name: \"Fugue SQL\",\n            mime: \"text/x-fsql\",\n            mode: \"sql\"\n          } );\n\nrequire(['notebook/js/codecell'], function(codecell) {\n    codecell.CodeCell.options_default.highlight_modes['magic_text/x-fsql'] = {'reg':[/%%fsql/]} ;\n    Jupyter.notebook.events.on('kernel_ready.Kernel', function(){\n    Jupyter.notebook.get_cells().map(function(cell){\n        if (cell.cell_type == 'code'){ cell.auto_highlight(); } }) ;\n    });\n  });\n",
      "text/plain": [
       "<IPython.core.display.Javascript object>"
      ]
     },
     "metadata": {},
     "output_type": "display_data"
    }
   ],
   "source": [
    "from fugue_notebook import setup\n",
    "\n",
    "setup()"
   ]
  },
  {
   "cell_type": "markdown",
   "metadata": {},
   "source": [
    "## A Practical Workflow\n",
    "\n",
    "In this workflow, we will create some mock dataframes, save to csv, load it and save to parquet, and do some basic EDA on the dataframes.\n",
    "\n",
    "### Create data and save and load"
   ]
  },
  {
   "cell_type": "code",
   "execution_count": 4,
   "metadata": {},
   "outputs": [],
   "source": [
    "import numpy as np\n",
    "\n",
    "np.random.seed(0)\n",
    "n = 1000\n",
    "\n",
    "df1 = pd.DataFrame(dict(\n",
    "    a = np.random.choice([\"a\", \"b\", \"c\"], n),\n",
    "    b = np.random.rand(n),\n",
    "    c = pd.date_range(start=\"2020-01-01 14:15:16\", periods=n, freq=\"s\")\n",
    "))\n",
    "\n",
    "df2 = pd.DataFrame(dict(\n",
    "    c = pd.date_range(start=\"2020-01-01 14:15:16\", periods=n, freq=\"s\"),\n",
    "    d = np.random.choice([True, False, None], n),\n",
    "))"
   ]
  },
  {
   "cell_type": "code",
   "execution_count": 5,
   "metadata": {},
   "outputs": [
    {
     "data": {
      "text/html": [
       "<div>\n",
       "<style scoped>\n",
       "    .dataframe tbody tr th:only-of-type {\n",
       "        vertical-align: middle;\n",
       "    }\n",
       "\n",
       "    .dataframe tbody tr th {\n",
       "        vertical-align: top;\n",
       "    }\n",
       "\n",
       "    .dataframe thead th {\n",
       "        text-align: right;\n",
       "    }\n",
       "</style>\n",
       "<table border=\"1\" class=\"dataframe\">\n",
       "  <thead>\n",
       "    <tr style=\"text-align: right;\">\n",
       "      <th></th>\n",
       "      <th>a</th>\n",
       "      <th>b</th>\n",
       "      <th>c</th>\n",
       "    </tr>\n",
       "  </thead>\n",
       "  <tbody>\n",
       "    <tr>\n",
       "      <th>0</th>\n",
       "      <td>a</td>\n",
       "      <td>0.671383</td>\n",
       "      <td>2020-01-01 14:15:16</td>\n",
       "    </tr>\n",
       "    <tr>\n",
       "      <th>1</th>\n",
       "      <td>b</td>\n",
       "      <td>0.344718</td>\n",
       "      <td>2020-01-01 14:15:17</td>\n",
       "    </tr>\n",
       "    <tr>\n",
       "      <th>2</th>\n",
       "      <td>a</td>\n",
       "      <td>0.713767</td>\n",
       "      <td>2020-01-01 14:15:18</td>\n",
       "    </tr>\n",
       "    <tr>\n",
       "      <th>3</th>\n",
       "      <td>b</td>\n",
       "      <td>0.639187</td>\n",
       "      <td>2020-01-01 14:15:19</td>\n",
       "    </tr>\n",
       "    <tr>\n",
       "      <th>4</th>\n",
       "      <td>b</td>\n",
       "      <td>0.399161</td>\n",
       "      <td>2020-01-01 14:15:20</td>\n",
       "    </tr>\n",
       "    <tr>\n",
       "      <th>5</th>\n",
       "      <td>c</td>\n",
       "      <td>0.431760</td>\n",
       "      <td>2020-01-01 14:15:21</td>\n",
       "    </tr>\n",
       "    <tr>\n",
       "      <th>6</th>\n",
       "      <td>a</td>\n",
       "      <td>0.614528</td>\n",
       "      <td>2020-01-01 14:15:22</td>\n",
       "    </tr>\n",
       "    <tr>\n",
       "      <th>7</th>\n",
       "      <td>c</td>\n",
       "      <td>0.070042</td>\n",
       "      <td>2020-01-01 14:15:23</td>\n",
       "    </tr>\n",
       "    <tr>\n",
       "      <th>8</th>\n",
       "      <td>a</td>\n",
       "      <td>0.822407</td>\n",
       "      <td>2020-01-01 14:15:24</td>\n",
       "    </tr>\n",
       "    <tr>\n",
       "      <th>9</th>\n",
       "      <td>a</td>\n",
       "      <td>0.653421</td>\n",
       "      <td>2020-01-01 14:15:25</td>\n",
       "    </tr>\n",
       "  </tbody>\n",
       "</table>\n",
       "</div>"
      ],
      "text/plain": [
       "   a         b                   c\n",
       "0  a  0.671383 2020-01-01 14:15:16\n",
       "1  b  0.344718 2020-01-01 14:15:17\n",
       "2  a  0.713767 2020-01-01 14:15:18\n",
       "3  b  0.639187 2020-01-01 14:15:19\n",
       "4  b  0.399161 2020-01-01 14:15:20\n",
       "5  c  0.431760 2020-01-01 14:15:21\n",
       "6  a  0.614528 2020-01-01 14:15:22\n",
       "7  c  0.070042 2020-01-01 14:15:23\n",
       "8  a  0.822407 2020-01-01 14:15:24\n",
       "9  a  0.653421 2020-01-01 14:15:25"
      ]
     },
     "metadata": {},
     "output_type": "display_data"
    },
    {
     "data": {
      "text/html": [
       "<small>schema: a:str,b:double,c:datetime</small>"
      ],
      "text/plain": [
       "<IPython.core.display.HTML object>"
      ]
     },
     "metadata": {},
     "output_type": "display_data"
    },
    {
     "data": {
      "text/html": [
       "<div>\n",
       "<style scoped>\n",
       "    .dataframe tbody tr th:only-of-type {\n",
       "        vertical-align: middle;\n",
       "    }\n",
       "\n",
       "    .dataframe tbody tr th {\n",
       "        vertical-align: top;\n",
       "    }\n",
       "\n",
       "    .dataframe thead th {\n",
       "        text-align: right;\n",
       "    }\n",
       "</style>\n",
       "<table border=\"1\" class=\"dataframe\">\n",
       "  <thead>\n",
       "    <tr style=\"text-align: right;\">\n",
       "      <th></th>\n",
       "      <th>c</th>\n",
       "      <th>d</th>\n",
       "    </tr>\n",
       "  </thead>\n",
       "  <tbody>\n",
       "    <tr>\n",
       "      <th>0</th>\n",
       "      <td>2020-01-01 14:15:16</td>\n",
       "      <td>None</td>\n",
       "    </tr>\n",
       "    <tr>\n",
       "      <th>1</th>\n",
       "      <td>2020-01-01 14:15:17</td>\n",
       "      <td>None</td>\n",
       "    </tr>\n",
       "    <tr>\n",
       "      <th>2</th>\n",
       "      <td>2020-01-01 14:15:18</td>\n",
       "      <td>None</td>\n",
       "    </tr>\n",
       "    <tr>\n",
       "      <th>3</th>\n",
       "      <td>2020-01-01 14:15:19</td>\n",
       "      <td>True</td>\n",
       "    </tr>\n",
       "    <tr>\n",
       "      <th>4</th>\n",
       "      <td>2020-01-01 14:15:20</td>\n",
       "      <td>True</td>\n",
       "    </tr>\n",
       "    <tr>\n",
       "      <th>5</th>\n",
       "      <td>2020-01-01 14:15:21</td>\n",
       "      <td>True</td>\n",
       "    </tr>\n",
       "    <tr>\n",
       "      <th>6</th>\n",
       "      <td>2020-01-01 14:15:22</td>\n",
       "      <td>None</td>\n",
       "    </tr>\n",
       "    <tr>\n",
       "      <th>7</th>\n",
       "      <td>2020-01-01 14:15:23</td>\n",
       "      <td>None</td>\n",
       "    </tr>\n",
       "    <tr>\n",
       "      <th>8</th>\n",
       "      <td>2020-01-01 14:15:24</td>\n",
       "      <td>True</td>\n",
       "    </tr>\n",
       "    <tr>\n",
       "      <th>9</th>\n",
       "      <td>2020-01-01 14:15:25</td>\n",
       "      <td>False</td>\n",
       "    </tr>\n",
       "  </tbody>\n",
       "</table>\n",
       "</div>"
      ],
      "text/plain": [
       "                    c      d\n",
       "0 2020-01-01 14:15:16   None\n",
       "1 2020-01-01 14:15:17   None\n",
       "2 2020-01-01 14:15:18   None\n",
       "3 2020-01-01 14:15:19   True\n",
       "4 2020-01-01 14:15:20   True\n",
       "5 2020-01-01 14:15:21   True\n",
       "6 2020-01-01 14:15:22   None\n",
       "7 2020-01-01 14:15:23   None\n",
       "8 2020-01-01 14:15:24   True\n",
       "9 2020-01-01 14:15:25  False"
      ]
     },
     "metadata": {},
     "output_type": "display_data"
    },
    {
     "data": {
      "text/html": [
       "<small>schema: c:datetime,d:bool</small>"
      ],
      "text/plain": [
       "<IPython.core.display.HTML object>"
      ]
     },
     "metadata": {},
     "output_type": "display_data"
    }
   ],
   "source": [
    "%%fsql duck\n",
    "PRINT df1, df2"
   ]
  },
  {
   "cell_type": "code",
   "execution_count": 6,
   "metadata": {},
   "outputs": [],
   "source": [
    "%%fsql duck\n",
    "SAVE df1 OVERWRITE \"/tmp/df1.csv\" (header=TRUE)\n",
    "SAVE df2 OVERWRITE \"/tmp/df2.csv\" (header=FALSE)"
   ]
  },
  {
   "cell_type": "markdown",
   "metadata": {},
   "source": [
    "Load back CSVs and save to parquets. Parquet is always a better choice than CSV"
   ]
  },
  {
   "cell_type": "code",
   "execution_count": 7,
   "metadata": {},
   "outputs": [
    {
     "data": {
      "text/html": [
       "<div>\n",
       "<style scoped>\n",
       "    .dataframe tbody tr th:only-of-type {\n",
       "        vertical-align: middle;\n",
       "    }\n",
       "\n",
       "    .dataframe tbody tr th {\n",
       "        vertical-align: top;\n",
       "    }\n",
       "\n",
       "    .dataframe thead th {\n",
       "        text-align: right;\n",
       "    }\n",
       "</style>\n",
       "<table border=\"1\" class=\"dataframe\">\n",
       "  <thead>\n",
       "    <tr style=\"text-align: right;\">\n",
       "      <th></th>\n",
       "      <th>c</th>\n",
       "      <th>d</th>\n",
       "    </tr>\n",
       "  </thead>\n",
       "  <tbody>\n",
       "    <tr>\n",
       "      <th>0</th>\n",
       "      <td>2020-01-01 14:15:16</td>\n",
       "      <td>None</td>\n",
       "    </tr>\n",
       "    <tr>\n",
       "      <th>1</th>\n",
       "      <td>2020-01-01 14:15:17</td>\n",
       "      <td>None</td>\n",
       "    </tr>\n",
       "    <tr>\n",
       "      <th>2</th>\n",
       "      <td>2020-01-01 14:15:18</td>\n",
       "      <td>None</td>\n",
       "    </tr>\n",
       "    <tr>\n",
       "      <th>3</th>\n",
       "      <td>2020-01-01 14:15:19</td>\n",
       "      <td>True</td>\n",
       "    </tr>\n",
       "    <tr>\n",
       "      <th>4</th>\n",
       "      <td>2020-01-01 14:15:20</td>\n",
       "      <td>True</td>\n",
       "    </tr>\n",
       "    <tr>\n",
       "      <th>5</th>\n",
       "      <td>2020-01-01 14:15:21</td>\n",
       "      <td>True</td>\n",
       "    </tr>\n",
       "    <tr>\n",
       "      <th>6</th>\n",
       "      <td>2020-01-01 14:15:22</td>\n",
       "      <td>None</td>\n",
       "    </tr>\n",
       "    <tr>\n",
       "      <th>7</th>\n",
       "      <td>2020-01-01 14:15:23</td>\n",
       "      <td>None</td>\n",
       "    </tr>\n",
       "    <tr>\n",
       "      <th>8</th>\n",
       "      <td>2020-01-01 14:15:24</td>\n",
       "      <td>True</td>\n",
       "    </tr>\n",
       "    <tr>\n",
       "      <th>9</th>\n",
       "      <td>2020-01-01 14:15:25</td>\n",
       "      <td>False</td>\n",
       "    </tr>\n",
       "  </tbody>\n",
       "</table>\n",
       "</div>"
      ],
      "text/plain": [
       "                    c      d\n",
       "0 2020-01-01 14:15:16   None\n",
       "1 2020-01-01 14:15:17   None\n",
       "2 2020-01-01 14:15:18   None\n",
       "3 2020-01-01 14:15:19   True\n",
       "4 2020-01-01 14:15:20   True\n",
       "5 2020-01-01 14:15:21   True\n",
       "6 2020-01-01 14:15:22   None\n",
       "7 2020-01-01 14:15:23   None\n",
       "8 2020-01-01 14:15:24   True\n",
       "9 2020-01-01 14:15:25  False"
      ]
     },
     "metadata": {},
     "output_type": "display_data"
    },
    {
     "data": {
      "text/html": [
       "<small>schema: c:datetime,d:bool</small>"
      ],
      "text/plain": [
       "<IPython.core.display.HTML object>"
      ]
     },
     "metadata": {},
     "output_type": "display_data"
    }
   ],
   "source": [
    "%%fsql duck\n",
    "LOAD \"/tmp/df1.csv\" (header=TRUE, infer_schema=TRUE)\n",
    "SAVE OVERWRITE \"/tmp/df1.parquet\"\n",
    "LOAD \"/tmp/df2.csv\" COLUMNS c:datetime,d:bool\n",
    "SAVE AND USE OVERWRITE \"/tmp/df2.parquet\"\n",
    "PRINT"
   ]
  },
  {
   "cell_type": "markdown",
   "metadata": {},
   "source": [
    "### Basic EDA"
   ]
  },
  {
   "cell_type": "code",
   "execution_count": 8,
   "metadata": {},
   "outputs": [
    {
     "data": {
      "text/html": [
       "<div>\n",
       "<style scoped>\n",
       "    .dataframe tbody tr th:only-of-type {\n",
       "        vertical-align: middle;\n",
       "    }\n",
       "\n",
       "    .dataframe tbody tr th {\n",
       "        vertical-align: top;\n",
       "    }\n",
       "\n",
       "    .dataframe thead th {\n",
       "        text-align: right;\n",
       "    }\n",
       "</style>\n",
       "<table border=\"1\" class=\"dataframe\">\n",
       "  <thead>\n",
       "    <tr style=\"text-align: right;\">\n",
       "      <th></th>\n",
       "      <th>a</th>\n",
       "      <th>b</th>\n",
       "      <th>c</th>\n",
       "      <th>d</th>\n",
       "    </tr>\n",
       "  </thead>\n",
       "  <tbody>\n",
       "    <tr>\n",
       "      <th>0</th>\n",
       "      <td>c</td>\n",
       "      <td>0.800256</td>\n",
       "      <td>2020-01-01 14:23:24</td>\n",
       "      <td>False</td>\n",
       "    </tr>\n",
       "    <tr>\n",
       "      <th>1</th>\n",
       "      <td>b</td>\n",
       "      <td>0.955568</td>\n",
       "      <td>2020-01-01 14:23:25</td>\n",
       "      <td>None</td>\n",
       "    </tr>\n",
       "    <tr>\n",
       "      <th>2</th>\n",
       "      <td>b</td>\n",
       "      <td>0.316550</td>\n",
       "      <td>2020-01-01 14:23:26</td>\n",
       "      <td>True</td>\n",
       "    </tr>\n",
       "    <tr>\n",
       "      <th>3</th>\n",
       "      <td>b</td>\n",
       "      <td>0.826805</td>\n",
       "      <td>2020-01-01 14:23:27</td>\n",
       "      <td>True</td>\n",
       "    </tr>\n",
       "    <tr>\n",
       "      <th>4</th>\n",
       "      <td>a</td>\n",
       "      <td>0.103991</td>\n",
       "      <td>2020-01-01 14:23:28</td>\n",
       "      <td>True</td>\n",
       "    </tr>\n",
       "    <tr>\n",
       "      <th>5</th>\n",
       "      <td>a</td>\n",
       "      <td>0.633982</td>\n",
       "      <td>2020-01-01 14:23:29</td>\n",
       "      <td>None</td>\n",
       "    </tr>\n",
       "    <tr>\n",
       "      <th>6</th>\n",
       "      <td>c</td>\n",
       "      <td>0.751032</td>\n",
       "      <td>2020-01-01 14:23:30</td>\n",
       "      <td>False</td>\n",
       "    </tr>\n",
       "    <tr>\n",
       "      <th>7</th>\n",
       "      <td>a</td>\n",
       "      <td>0.155978</td>\n",
       "      <td>2020-01-01 14:23:31</td>\n",
       "      <td>None</td>\n",
       "    </tr>\n",
       "    <tr>\n",
       "      <th>8</th>\n",
       "      <td>a</td>\n",
       "      <td>0.426002</td>\n",
       "      <td>2020-01-01 14:23:32</td>\n",
       "      <td>False</td>\n",
       "    </tr>\n",
       "    <tr>\n",
       "      <th>9</th>\n",
       "      <td>c</td>\n",
       "      <td>0.892707</td>\n",
       "      <td>2020-01-01 14:23:33</td>\n",
       "      <td>True</td>\n",
       "    </tr>\n",
       "  </tbody>\n",
       "</table>\n",
       "</div>"
      ],
      "text/plain": [
       "   a         b                   c      d\n",
       "0  c  0.800256 2020-01-01 14:23:24  False\n",
       "1  b  0.955568 2020-01-01 14:23:25   None\n",
       "2  b  0.316550 2020-01-01 14:23:26   True\n",
       "3  b  0.826805 2020-01-01 14:23:27   True\n",
       "4  a  0.103991 2020-01-01 14:23:28   True\n",
       "5  a  0.633982 2020-01-01 14:23:29   None\n",
       "6  c  0.751032 2020-01-01 14:23:30  False\n",
       "7  a  0.155978 2020-01-01 14:23:31   None\n",
       "8  a  0.426002 2020-01-01 14:23:32  False\n",
       "9  c  0.892707 2020-01-01 14:23:33   True"
      ]
     },
     "metadata": {},
     "output_type": "display_data"
    },
    {
     "data": {
      "text/html": [
       "<strong>total count: 1000</strong>"
      ],
      "text/plain": [
       "<IPython.core.display.HTML object>"
      ]
     },
     "metadata": {},
     "output_type": "display_data"
    },
    {
     "data": {
      "text/html": [
       "<small>schema: a:str,b:double,c:datetime,d:bool</small>"
      ],
      "text/plain": [
       "<IPython.core.display.HTML object>"
      ]
     },
     "metadata": {},
     "output_type": "display_data"
    }
   ],
   "source": [
    "%%fsql duck\n",
    "df1 = LOAD \"/tmp/df1.parquet\"\n",
    "df2 = LOAD \"/tmp/df2.parquet\"\n",
    "df3 = \n",
    "    SELECT df1.*, df2.d FROM df1 INNER JOIN df2 ON df1.c = df2.c\n",
    "    YIELD DATAFRAME\n",
    "\n",
    "PRINT ROWCOUNT"
   ]
  },
  {
   "cell_type": "markdown",
   "metadata": {},
   "source": [
    "The yielded `df3` can be directly used on the next cells. `YIELD DATAFRAME` or `YIELD FILE` are extremely useful for EDA step."
   ]
  },
  {
   "cell_type": "code",
   "execution_count": 9,
   "metadata": {},
   "outputs": [
    {
     "data": {
      "text/html": [
       "<div>\n",
       "<style scoped>\n",
       "    .dataframe tbody tr th:only-of-type {\n",
       "        vertical-align: middle;\n",
       "    }\n",
       "\n",
       "    .dataframe tbody tr th {\n",
       "        vertical-align: top;\n",
       "    }\n",
       "\n",
       "    .dataframe thead th {\n",
       "        text-align: right;\n",
       "    }\n",
       "</style>\n",
       "<table border=\"1\" class=\"dataframe\">\n",
       "  <thead>\n",
       "    <tr style=\"text-align: right;\">\n",
       "      <th></th>\n",
       "      <th>a</th>\n",
       "      <th>b</th>\n",
       "      <th>c</th>\n",
       "      <th>d</th>\n",
       "    </tr>\n",
       "  </thead>\n",
       "  <tbody>\n",
       "    <tr>\n",
       "      <th>0</th>\n",
       "      <td>b</td>\n",
       "      <td>0.268709</td>\n",
       "      <td>2020-01-01 14:23:23</td>\n",
       "      <td>False</td>\n",
       "    </tr>\n",
       "    <tr>\n",
       "      <th>1</th>\n",
       "      <td>c</td>\n",
       "      <td>0.024577</td>\n",
       "      <td>2020-01-01 14:23:20</td>\n",
       "      <td>None</td>\n",
       "    </tr>\n",
       "    <tr>\n",
       "      <th>2</th>\n",
       "      <td>b</td>\n",
       "      <td>0.349898</td>\n",
       "      <td>2020-01-01 14:23:18</td>\n",
       "      <td>None</td>\n",
       "    </tr>\n",
       "    <tr>\n",
       "      <th>3</th>\n",
       "      <td>c</td>\n",
       "      <td>0.276650</td>\n",
       "      <td>2020-01-01 14:23:16</td>\n",
       "      <td>False</td>\n",
       "    </tr>\n",
       "    <tr>\n",
       "      <th>4</th>\n",
       "      <td>b</td>\n",
       "      <td>0.683726</td>\n",
       "      <td>2020-01-01 14:23:13</td>\n",
       "      <td>True</td>\n",
       "    </tr>\n",
       "    <tr>\n",
       "      <th>5</th>\n",
       "      <td>c</td>\n",
       "      <td>0.102446</td>\n",
       "      <td>2020-01-01 14:23:14</td>\n",
       "      <td>False</td>\n",
       "    </tr>\n",
       "    <tr>\n",
       "      <th>6</th>\n",
       "      <td>b</td>\n",
       "      <td>0.221218</td>\n",
       "      <td>2020-01-01 14:23:12</td>\n",
       "      <td>True</td>\n",
       "    </tr>\n",
       "    <tr>\n",
       "      <th>7</th>\n",
       "      <td>c</td>\n",
       "      <td>0.280859</td>\n",
       "      <td>2020-01-01 14:23:05</td>\n",
       "      <td>True</td>\n",
       "    </tr>\n",
       "    <tr>\n",
       "      <th>8</th>\n",
       "      <td>b</td>\n",
       "      <td>0.392319</td>\n",
       "      <td>2020-01-01 14:23:11</td>\n",
       "      <td>True</td>\n",
       "    </tr>\n",
       "    <tr>\n",
       "      <th>9</th>\n",
       "      <td>c</td>\n",
       "      <td>0.128021</td>\n",
       "      <td>2020-01-01 14:22:58</td>\n",
       "      <td>True</td>\n",
       "    </tr>\n",
       "  </tbody>\n",
       "</table>\n",
       "</div>"
      ],
      "text/plain": [
       "   a         b                   c      d\n",
       "0  b  0.268709 2020-01-01 14:23:23  False\n",
       "1  c  0.024577 2020-01-01 14:23:20   None\n",
       "2  b  0.349898 2020-01-01 14:23:18   None\n",
       "3  c  0.276650 2020-01-01 14:23:16  False\n",
       "4  b  0.683726 2020-01-01 14:23:13   True\n",
       "5  c  0.102446 2020-01-01 14:23:14  False\n",
       "6  b  0.221218 2020-01-01 14:23:12   True\n",
       "7  c  0.280859 2020-01-01 14:23:05   True\n",
       "8  b  0.392319 2020-01-01 14:23:11   True\n",
       "9  c  0.128021 2020-01-01 14:22:58   True"
      ]
     },
     "metadata": {},
     "output_type": "display_data"
    },
    {
     "data": {
      "text/html": [
       "<strong>total count: 663</strong>"
      ],
      "text/plain": [
       "<IPython.core.display.HTML object>"
      ]
     },
     "metadata": {},
     "output_type": "display_data"
    },
    {
     "data": {
      "text/html": [
       "<small>schema: a:str,b:double,c:datetime,d:bool</small>"
      ],
      "text/plain": [
       "<IPython.core.display.HTML object>"
      ]
     },
     "metadata": {},
     "output_type": "display_data"
    },
    {
     "data": {
      "text/html": [
       "<div>\n",
       "<style scoped>\n",
       "    .dataframe tbody tr th:only-of-type {\n",
       "        vertical-align: middle;\n",
       "    }\n",
       "\n",
       "    .dataframe tbody tr th {\n",
       "        vertical-align: top;\n",
       "    }\n",
       "\n",
       "    .dataframe thead th {\n",
       "        text-align: right;\n",
       "    }\n",
       "</style>\n",
       "<table border=\"1\" class=\"dataframe\">\n",
       "  <thead>\n",
       "    <tr style=\"text-align: right;\">\n",
       "      <th></th>\n",
       "      <th>m</th>\n",
       "      <th>ct</th>\n",
       "    </tr>\n",
       "  </thead>\n",
       "  <tbody>\n",
       "    <tr>\n",
       "      <th>0</th>\n",
       "      <td>24</td>\n",
       "      <td>46</td>\n",
       "    </tr>\n",
       "    <tr>\n",
       "      <th>1</th>\n",
       "      <td>25</td>\n",
       "      <td>45</td>\n",
       "    </tr>\n",
       "    <tr>\n",
       "      <th>2</th>\n",
       "      <td>28</td>\n",
       "      <td>43</td>\n",
       "    </tr>\n",
       "    <tr>\n",
       "      <th>3</th>\n",
       "      <td>19</td>\n",
       "      <td>42</td>\n",
       "    </tr>\n",
       "    <tr>\n",
       "      <th>4</th>\n",
       "      <td>26</td>\n",
       "      <td>42</td>\n",
       "    </tr>\n",
       "    <tr>\n",
       "      <th>5</th>\n",
       "      <td>31</td>\n",
       "      <td>41</td>\n",
       "    </tr>\n",
       "    <tr>\n",
       "      <th>6</th>\n",
       "      <td>30</td>\n",
       "      <td>40</td>\n",
       "    </tr>\n",
       "    <tr>\n",
       "      <th>7</th>\n",
       "      <td>17</td>\n",
       "      <td>39</td>\n",
       "    </tr>\n",
       "    <tr>\n",
       "      <th>8</th>\n",
       "      <td>18</td>\n",
       "      <td>39</td>\n",
       "    </tr>\n",
       "    <tr>\n",
       "      <th>9</th>\n",
       "      <td>22</td>\n",
       "      <td>39</td>\n",
       "    </tr>\n",
       "  </tbody>\n",
       "</table>\n",
       "</div>"
      ],
      "text/plain": [
       "    m  ct\n",
       "0  24  46\n",
       "1  25  45\n",
       "2  28  43\n",
       "3  19  42\n",
       "4  26  42\n",
       "5  31  41\n",
       "6  30  40\n",
       "7  17  39\n",
       "8  18  39\n",
       "9  22  39"
      ]
     },
     "metadata": {},
     "output_type": "display_data"
    },
    {
     "data": {
      "text/html": [
       "<small>schema: m:long,ct:long</small>"
      ],
      "text/plain": [
       "<IPython.core.display.HTML object>"
      ]
     },
     "metadata": {},
     "output_type": "display_data"
    }
   ],
   "source": [
    "%%fsql duck\n",
    "top2 = SELECT a, SUM(b) AS b FROM df3 GROUP BY a ORDER BY b DESC LIMIT 2\n",
    "top_groups = SELECT df3.* FROM df3 INNER JOIN top2 ON df3.a = top2.a YIELD DATAFRAME\n",
    "PRINT ROWCOUNT\n",
    "\n",
    "SELECT minute(c) AS m, COUNT(*) AS ct GROUP BY 1 ORDER BY 2 DESC\n",
    "PRINT"
   ]
  },
  {
   "cell_type": "markdown",
   "metadata": {},
   "source": [
    "And a couple of Fugue SQL specific syntax"
   ]
  },
  {
   "cell_type": "code",
   "execution_count": 10,
   "metadata": {},
   "outputs": [
    {
     "data": {
      "text/html": [
       "<div>\n",
       "<style scoped>\n",
       "    .dataframe tbody tr th:only-of-type {\n",
       "        vertical-align: middle;\n",
       "    }\n",
       "\n",
       "    .dataframe tbody tr th {\n",
       "        vertical-align: top;\n",
       "    }\n",
       "\n",
       "    .dataframe thead th {\n",
       "        text-align: right;\n",
       "    }\n",
       "</style>\n",
       "<table border=\"1\" class=\"dataframe\">\n",
       "  <thead>\n",
       "    <tr style=\"text-align: right;\">\n",
       "      <th></th>\n",
       "      <th>a</th>\n",
       "      <th>b</th>\n",
       "      <th>c</th>\n",
       "      <th>d</th>\n",
       "    </tr>\n",
       "  </thead>\n",
       "  <tbody>\n",
       "    <tr>\n",
       "      <th>0</th>\n",
       "      <td>b</td>\n",
       "      <td>0.000546</td>\n",
       "      <td>2020-01-01 14:17:51</td>\n",
       "      <td>True</td>\n",
       "    </tr>\n",
       "    <tr>\n",
       "      <th>1</th>\n",
       "      <td>b</td>\n",
       "      <td>0.024273</td>\n",
       "      <td>2020-01-01 14:21:34</td>\n",
       "      <td>True</td>\n",
       "    </tr>\n",
       "    <tr>\n",
       "      <th>2</th>\n",
       "      <td>c</td>\n",
       "      <td>0.001383</td>\n",
       "      <td>2020-01-01 14:16:47</td>\n",
       "      <td>None</td>\n",
       "    </tr>\n",
       "    <tr>\n",
       "      <th>3</th>\n",
       "      <td>c</td>\n",
       "      <td>0.004655</td>\n",
       "      <td>2020-01-01 14:24:44</td>\n",
       "      <td>True</td>\n",
       "    </tr>\n",
       "  </tbody>\n",
       "</table>\n",
       "</div>"
      ],
      "text/plain": [
       "   a         b                   c     d\n",
       "0  b  0.000546 2020-01-01 14:17:51  True\n",
       "1  b  0.024273 2020-01-01 14:21:34  True\n",
       "2  c  0.001383 2020-01-01 14:16:47  None\n",
       "3  c  0.004655 2020-01-01 14:24:44  True"
      ]
     },
     "metadata": {},
     "output_type": "display_data"
    },
    {
     "data": {
      "text/html": [
       "<small>schema: a:str,b:double,c:datetime,d:bool</small>"
      ],
      "text/plain": [
       "<IPython.core.display.HTML object>"
      ]
     },
     "metadata": {},
     "output_type": "display_data"
    },
    {
     "data": {
      "text/html": [
       "<div>\n",
       "<style scoped>\n",
       "    .dataframe tbody tr th:only-of-type {\n",
       "        vertical-align: middle;\n",
       "    }\n",
       "\n",
       "    .dataframe tbody tr th {\n",
       "        vertical-align: top;\n",
       "    }\n",
       "\n",
       "    .dataframe thead th {\n",
       "        text-align: right;\n",
       "    }\n",
       "</style>\n",
       "<table border=\"1\" class=\"dataframe\">\n",
       "  <thead>\n",
       "    <tr style=\"text-align: right;\">\n",
       "      <th></th>\n",
       "      <th>a</th>\n",
       "      <th>b</th>\n",
       "      <th>c</th>\n",
       "      <th>d</th>\n",
       "    </tr>\n",
       "  </thead>\n",
       "  <tbody>\n",
       "    <tr>\n",
       "      <th>0</th>\n",
       "      <td>c</td>\n",
       "      <td>0.800256</td>\n",
       "      <td>2020-01-01 14:23:24</td>\n",
       "      <td>False</td>\n",
       "    </tr>\n",
       "    <tr>\n",
       "      <th>1</th>\n",
       "      <td>b</td>\n",
       "      <td>0.955568</td>\n",
       "      <td>2020-01-01 14:23:25</td>\n",
       "      <td>True</td>\n",
       "    </tr>\n",
       "    <tr>\n",
       "      <th>2</th>\n",
       "      <td>b</td>\n",
       "      <td>0.316550</td>\n",
       "      <td>2020-01-01 14:23:26</td>\n",
       "      <td>True</td>\n",
       "    </tr>\n",
       "    <tr>\n",
       "      <th>3</th>\n",
       "      <td>b</td>\n",
       "      <td>0.826805</td>\n",
       "      <td>2020-01-01 14:23:27</td>\n",
       "      <td>True</td>\n",
       "    </tr>\n",
       "    <tr>\n",
       "      <th>4</th>\n",
       "      <td>c</td>\n",
       "      <td>0.751032</td>\n",
       "      <td>2020-01-01 14:23:30</td>\n",
       "      <td>False</td>\n",
       "    </tr>\n",
       "    <tr>\n",
       "      <th>5</th>\n",
       "      <td>c</td>\n",
       "      <td>0.892707</td>\n",
       "      <td>2020-01-01 14:23:33</td>\n",
       "      <td>True</td>\n",
       "    </tr>\n",
       "    <tr>\n",
       "      <th>6</th>\n",
       "      <td>b</td>\n",
       "      <td>0.103578</td>\n",
       "      <td>2020-01-01 14:23:34</td>\n",
       "      <td>False</td>\n",
       "    </tr>\n",
       "    <tr>\n",
       "      <th>7</th>\n",
       "      <td>c</td>\n",
       "      <td>0.018096</td>\n",
       "      <td>2020-01-01 14:23:35</td>\n",
       "      <td>True</td>\n",
       "    </tr>\n",
       "    <tr>\n",
       "      <th>8</th>\n",
       "      <td>c</td>\n",
       "      <td>0.590585</td>\n",
       "      <td>2020-01-01 14:23:36</td>\n",
       "      <td>True</td>\n",
       "    </tr>\n",
       "    <tr>\n",
       "      <th>9</th>\n",
       "      <td>c</td>\n",
       "      <td>0.798689</td>\n",
       "      <td>2020-01-01 14:23:38</td>\n",
       "      <td>False</td>\n",
       "    </tr>\n",
       "  </tbody>\n",
       "</table>\n",
       "</div>"
      ],
      "text/plain": [
       "   a         b                   c      d\n",
       "0  c  0.800256 2020-01-01 14:23:24  False\n",
       "1  b  0.955568 2020-01-01 14:23:25   True\n",
       "2  b  0.316550 2020-01-01 14:23:26   True\n",
       "3  b  0.826805 2020-01-01 14:23:27   True\n",
       "4  c  0.751032 2020-01-01 14:23:30  False\n",
       "5  c  0.892707 2020-01-01 14:23:33   True\n",
       "6  b  0.103578 2020-01-01 14:23:34  False\n",
       "7  c  0.018096 2020-01-01 14:23:35   True\n",
       "8  c  0.590585 2020-01-01 14:23:36   True\n",
       "9  c  0.798689 2020-01-01 14:23:38  False"
      ]
     },
     "metadata": {},
     "output_type": "display_data"
    },
    {
     "data": {
      "text/html": [
       "<small>schema: a:str,b:double,c:datetime,d:bool</small>"
      ],
      "text/plain": [
       "<IPython.core.display.HTML object>"
      ]
     },
     "metadata": {},
     "output_type": "display_data"
    },
    {
     "data": {
      "text/html": [
       "<div>\n",
       "<style scoped>\n",
       "    .dataframe tbody tr th:only-of-type {\n",
       "        vertical-align: middle;\n",
       "    }\n",
       "\n",
       "    .dataframe tbody tr th {\n",
       "        vertical-align: top;\n",
       "    }\n",
       "\n",
       "    .dataframe thead th {\n",
       "        text-align: right;\n",
       "    }\n",
       "</style>\n",
       "<table border=\"1\" class=\"dataframe\">\n",
       "  <thead>\n",
       "    <tr style=\"text-align: right;\">\n",
       "      <th></th>\n",
       "      <th>a</th>\n",
       "      <th>b</th>\n",
       "      <th>c</th>\n",
       "      <th>d</th>\n",
       "    </tr>\n",
       "  </thead>\n",
       "  <tbody>\n",
       "    <tr>\n",
       "      <th>0</th>\n",
       "      <td>b</td>\n",
       "      <td>0.842973</td>\n",
       "      <td>2020-01-01 14:28:39</td>\n",
       "      <td>None</td>\n",
       "    </tr>\n",
       "    <tr>\n",
       "      <th>1</th>\n",
       "      <td>b</td>\n",
       "      <td>0.690785</td>\n",
       "      <td>2020-01-01 14:16:16</td>\n",
       "      <td>True</td>\n",
       "    </tr>\n",
       "    <tr>\n",
       "      <th>2</th>\n",
       "      <td>b</td>\n",
       "      <td>0.923305</td>\n",
       "      <td>2020-01-01 14:18:31</td>\n",
       "      <td>None</td>\n",
       "    </tr>\n",
       "    <tr>\n",
       "      <th>3</th>\n",
       "      <td>b</td>\n",
       "      <td>0.727547</td>\n",
       "      <td>2020-01-01 14:18:50</td>\n",
       "      <td>None</td>\n",
       "    </tr>\n",
       "    <tr>\n",
       "      <th>4</th>\n",
       "      <td>b</td>\n",
       "      <td>0.141817</td>\n",
       "      <td>2020-01-01 14:21:30</td>\n",
       "      <td>True</td>\n",
       "    </tr>\n",
       "  </tbody>\n",
       "</table>\n",
       "</div>"
      ],
      "text/plain": [
       "   a         b                   c     d\n",
       "0  b  0.842973 2020-01-01 14:28:39  None\n",
       "1  b  0.690785 2020-01-01 14:16:16  True\n",
       "2  b  0.923305 2020-01-01 14:18:31  None\n",
       "3  b  0.727547 2020-01-01 14:18:50  None\n",
       "4  b  0.141817 2020-01-01 14:21:30  True"
      ]
     },
     "metadata": {},
     "output_type": "display_data"
    },
    {
     "data": {
      "text/html": [
       "<strong>total count: 7</strong>"
      ],
      "text/plain": [
       "<IPython.core.display.HTML object>"
      ]
     },
     "metadata": {},
     "output_type": "display_data"
    },
    {
     "data": {
      "text/html": [
       "<small>schema: a:str,b:double,c:datetime,d:bool</small>"
      ],
      "text/plain": [
       "<IPython.core.display.HTML object>"
      ]
     },
     "metadata": {},
     "output_type": "display_data"
    },
    {
     "data": {
      "text/html": [
       "<div>\n",
       "<style scoped>\n",
       "    .dataframe tbody tr th:only-of-type {\n",
       "        vertical-align: middle;\n",
       "    }\n",
       "\n",
       "    .dataframe tbody tr th {\n",
       "        vertical-align: top;\n",
       "    }\n",
       "\n",
       "    .dataframe thead th {\n",
       "        text-align: right;\n",
       "    }\n",
       "</style>\n",
       "<table border=\"1\" class=\"dataframe\">\n",
       "  <thead>\n",
       "    <tr style=\"text-align: right;\">\n",
       "      <th></th>\n",
       "      <th>a</th>\n",
       "      <th>b</th>\n",
       "      <th>c</th>\n",
       "      <th>d</th>\n",
       "    </tr>\n",
       "  </thead>\n",
       "  <tbody>\n",
       "    <tr>\n",
       "      <th>0</th>\n",
       "      <td>c</td>\n",
       "      <td>0.800256</td>\n",
       "      <td>2020-01-01 14:23:24</td>\n",
       "      <td>False</td>\n",
       "    </tr>\n",
       "    <tr>\n",
       "      <th>1</th>\n",
       "      <td>b</td>\n",
       "      <td>0.316550</td>\n",
       "      <td>2020-01-01 14:23:26</td>\n",
       "      <td>True</td>\n",
       "    </tr>\n",
       "    <tr>\n",
       "      <th>2</th>\n",
       "      <td>b</td>\n",
       "      <td>0.826805</td>\n",
       "      <td>2020-01-01 14:23:27</td>\n",
       "      <td>True</td>\n",
       "    </tr>\n",
       "    <tr>\n",
       "      <th>3</th>\n",
       "      <td>c</td>\n",
       "      <td>0.751032</td>\n",
       "      <td>2020-01-01 14:23:30</td>\n",
       "      <td>False</td>\n",
       "    </tr>\n",
       "    <tr>\n",
       "      <th>4</th>\n",
       "      <td>c</td>\n",
       "      <td>0.892707</td>\n",
       "      <td>2020-01-01 14:23:33</td>\n",
       "      <td>True</td>\n",
       "    </tr>\n",
       "    <tr>\n",
       "      <th>5</th>\n",
       "      <td>b</td>\n",
       "      <td>0.103578</td>\n",
       "      <td>2020-01-01 14:23:34</td>\n",
       "      <td>False</td>\n",
       "    </tr>\n",
       "    <tr>\n",
       "      <th>6</th>\n",
       "      <td>c</td>\n",
       "      <td>0.018096</td>\n",
       "      <td>2020-01-01 14:23:35</td>\n",
       "      <td>True</td>\n",
       "    </tr>\n",
       "    <tr>\n",
       "      <th>7</th>\n",
       "      <td>c</td>\n",
       "      <td>0.590585</td>\n",
       "      <td>2020-01-01 14:23:36</td>\n",
       "      <td>True</td>\n",
       "    </tr>\n",
       "    <tr>\n",
       "      <th>8</th>\n",
       "      <td>c</td>\n",
       "      <td>0.798689</td>\n",
       "      <td>2020-01-01 14:23:38</td>\n",
       "      <td>False</td>\n",
       "    </tr>\n",
       "    <tr>\n",
       "      <th>9</th>\n",
       "      <td>c</td>\n",
       "      <td>0.388404</td>\n",
       "      <td>2020-01-01 14:23:41</td>\n",
       "      <td>False</td>\n",
       "    </tr>\n",
       "  </tbody>\n",
       "</table>\n",
       "</div>"
      ],
      "text/plain": [
       "   a         b                   c      d\n",
       "0  c  0.800256 2020-01-01 14:23:24  False\n",
       "1  b  0.316550 2020-01-01 14:23:26   True\n",
       "2  b  0.826805 2020-01-01 14:23:27   True\n",
       "3  c  0.751032 2020-01-01 14:23:30  False\n",
       "4  c  0.892707 2020-01-01 14:23:33   True\n",
       "5  b  0.103578 2020-01-01 14:23:34  False\n",
       "6  c  0.018096 2020-01-01 14:23:35   True\n",
       "7  c  0.590585 2020-01-01 14:23:36   True\n",
       "8  c  0.798689 2020-01-01 14:23:38  False\n",
       "9  c  0.388404 2020-01-01 14:23:41  False"
      ]
     },
     "metadata": {},
     "output_type": "display_data"
    },
    {
     "data": {
      "text/html": [
       "<strong>total count: 415</strong>"
      ],
      "text/plain": [
       "<IPython.core.display.HTML object>"
      ]
     },
     "metadata": {},
     "output_type": "display_data"
    },
    {
     "data": {
      "text/html": [
       "<small>schema: a:str,b:double,c:datetime,d:bool</small>"
      ],
      "text/plain": [
       "<IPython.core.display.HTML object>"
      ]
     },
     "metadata": {},
     "output_type": "display_data"
    },
    {
     "data": {
      "text/html": [
       "<div>\n",
       "<style scoped>\n",
       "    .dataframe tbody tr th:only-of-type {\n",
       "        vertical-align: middle;\n",
       "    }\n",
       "\n",
       "    .dataframe tbody tr th {\n",
       "        vertical-align: top;\n",
       "    }\n",
       "\n",
       "    .dataframe thead th {\n",
       "        text-align: right;\n",
       "    }\n",
       "</style>\n",
       "<table border=\"1\" class=\"dataframe\">\n",
       "  <thead>\n",
       "    <tr style=\"text-align: right;\">\n",
       "      <th></th>\n",
       "      <th>a</th>\n",
       "      <th>c</th>\n",
       "      <th>d</th>\n",
       "    </tr>\n",
       "  </thead>\n",
       "  <tbody>\n",
       "    <tr>\n",
       "      <th>0</th>\n",
       "      <td>c</td>\n",
       "      <td>2020-01-01 14:23:24</td>\n",
       "      <td>False</td>\n",
       "    </tr>\n",
       "    <tr>\n",
       "      <th>1</th>\n",
       "      <td>b</td>\n",
       "      <td>2020-01-01 14:23:25</td>\n",
       "      <td>None</td>\n",
       "    </tr>\n",
       "    <tr>\n",
       "      <th>2</th>\n",
       "      <td>b</td>\n",
       "      <td>2020-01-01 14:23:26</td>\n",
       "      <td>True</td>\n",
       "    </tr>\n",
       "    <tr>\n",
       "      <th>3</th>\n",
       "      <td>b</td>\n",
       "      <td>2020-01-01 14:23:27</td>\n",
       "      <td>True</td>\n",
       "    </tr>\n",
       "    <tr>\n",
       "      <th>4</th>\n",
       "      <td>c</td>\n",
       "      <td>2020-01-01 14:23:30</td>\n",
       "      <td>False</td>\n",
       "    </tr>\n",
       "    <tr>\n",
       "      <th>5</th>\n",
       "      <td>c</td>\n",
       "      <td>2020-01-01 14:23:33</td>\n",
       "      <td>True</td>\n",
       "    </tr>\n",
       "    <tr>\n",
       "      <th>6</th>\n",
       "      <td>b</td>\n",
       "      <td>2020-01-01 14:23:34</td>\n",
       "      <td>False</td>\n",
       "    </tr>\n",
       "    <tr>\n",
       "      <th>7</th>\n",
       "      <td>c</td>\n",
       "      <td>2020-01-01 14:23:35</td>\n",
       "      <td>True</td>\n",
       "    </tr>\n",
       "    <tr>\n",
       "      <th>8</th>\n",
       "      <td>c</td>\n",
       "      <td>2020-01-01 14:23:36</td>\n",
       "      <td>True</td>\n",
       "    </tr>\n",
       "    <tr>\n",
       "      <th>9</th>\n",
       "      <td>c</td>\n",
       "      <td>2020-01-01 14:23:38</td>\n",
       "      <td>False</td>\n",
       "    </tr>\n",
       "  </tbody>\n",
       "</table>\n",
       "</div>"
      ],
      "text/plain": [
       "   a                   c      d\n",
       "0  c 2020-01-01 14:23:24  False\n",
       "1  b 2020-01-01 14:23:25   None\n",
       "2  b 2020-01-01 14:23:26   True\n",
       "3  b 2020-01-01 14:23:27   True\n",
       "4  c 2020-01-01 14:23:30  False\n",
       "5  c 2020-01-01 14:23:33   True\n",
       "6  b 2020-01-01 14:23:34  False\n",
       "7  c 2020-01-01 14:23:35   True\n",
       "8  c 2020-01-01 14:23:36   True\n",
       "9  c 2020-01-01 14:23:38  False"
      ]
     },
     "metadata": {},
     "output_type": "display_data"
    },
    {
     "data": {
      "text/html": [
       "<small>schema: a:str,c:datetime,d:bool</small>"
      ],
      "text/plain": [
       "<IPython.core.display.HTML object>"
      ]
     },
     "metadata": {},
     "output_type": "display_data"
    }
   ],
   "source": [
    "%%fsql duck\n",
    "TAKE 2 ROWS FROM top_groups PREPARTITION BY a PRESORT b\n",
    "PRINT\n",
    "\n",
    "FILL NULLS PARAMS d:TRUE FROM top_groups\n",
    "PRINT\n",
    "\n",
    "SAMPLE 1 PERCENT SEED 0 FROM top_groups \n",
    "PRINT ROWCOUNT\n",
    "\n",
    "DROP ROWS IF ANY NULLS FROM top_groups\n",
    "PRINT ROWCOUNT\n",
    "\n",
    "DROP COLUMNS b, x IF EXISTS FROM top_groups\n",
    "PRINT"
   ]
  },
  {
   "cell_type": "markdown",
   "metadata": {},
   "source": [
    "## Extensions\n",
    "\n",
    "For transformers, since DuckDB is a SQL solution, custom python code will be using NativeExecutionEngine to execute. They will not run in parallel, but they should provide consistent result when you switch to distributed execution engines."
   ]
  },
  {
   "cell_type": "code",
   "execution_count": 11,
   "metadata": {},
   "outputs": [],
   "source": [
    "import pandas as pd\n",
    "\n",
    "# schema: *\n",
    "def get_median(df:pd.DataFrame) -> pd.DataFrame:\n",
    "    return df.head(1).assign(b=df.b.median())"
   ]
  },
  {
   "cell_type": "code",
   "execution_count": 12,
   "metadata": {},
   "outputs": [
    {
     "data": {
      "text/html": [
       "<div>\n",
       "<style scoped>\n",
       "    .dataframe tbody tr th:only-of-type {\n",
       "        vertical-align: middle;\n",
       "    }\n",
       "\n",
       "    .dataframe tbody tr th {\n",
       "        vertical-align: top;\n",
       "    }\n",
       "\n",
       "    .dataframe thead th {\n",
       "        text-align: right;\n",
       "    }\n",
       "</style>\n",
       "<table border=\"1\" class=\"dataframe\">\n",
       "  <thead>\n",
       "    <tr style=\"text-align: right;\">\n",
       "      <th></th>\n",
       "      <th>a</th>\n",
       "      <th>b</th>\n",
       "    </tr>\n",
       "  </thead>\n",
       "  <tbody>\n",
       "    <tr>\n",
       "      <th>0</th>\n",
       "      <td>a</td>\n",
       "      <td>0.480061</td>\n",
       "    </tr>\n",
       "    <tr>\n",
       "      <th>1</th>\n",
       "      <td>b</td>\n",
       "      <td>0.531494</td>\n",
       "    </tr>\n",
       "    <tr>\n",
       "      <th>2</th>\n",
       "      <td>c</td>\n",
       "      <td>0.507267</td>\n",
       "    </tr>\n",
       "  </tbody>\n",
       "</table>\n",
       "</div>"
      ],
      "text/plain": [
       "   a         b\n",
       "0  a  0.480061\n",
       "1  b  0.531494\n",
       "2  c  0.507267"
      ]
     },
     "metadata": {},
     "output_type": "display_data"
    },
    {
     "data": {
      "text/html": [
       "<small>schema: a:str,b:double</small>"
      ],
      "text/plain": [
       "<IPython.core.display.HTML object>"
      ]
     },
     "metadata": {},
     "output_type": "display_data"
    }
   ],
   "source": [
    "%%fsql duck\n",
    "SELECT a,b FROM (LOAD \"/tmp/df1.parquet\")\n",
    "TRANSFORM PREPARTITION BY a USING get_median\n",
    "PRINT"
   ]
  },
  {
   "cell_type": "markdown",
   "metadata": {},
   "source": [
    "For driver side extensions such as Creator, Processor and Outputter, you can use [DuckDBPyConnection](https://github.com/duckdb/duckdb/blob/8a0e93080023f4d3226a2021a7697fd0299bf2b8/tools/pythonpkg/duckdb-stubs/__init__.pyi#L22) as the engine input and [DuckDBPyRelation](https://github.com/duckdb/duckdb/blob/8a0e93080023f4d3226a2021a7697fd0299bf2b8/tools/pythonpkg/duckdb-stubs/__init__.pyi#L64) as the dataframe input. \n",
    "\n",
    "The purpose is that you can write modulized code that is completely independent from Fugue, but in the end you can use Fugue to orchestrate them. But you need to understand that, by using DuckDB specific input in an extension, it can only work with DuckDB execution engine."
   ]
  },
  {
   "cell_type": "code",
   "execution_count": 13,
   "metadata": {},
   "outputs": [],
   "source": [
    "from duckdb import DuckDBPyConnection, DuckDBPyRelation\n",
    "import pyarrow as pa\n",
    "\n",
    "def my_create(con:DuckDBPyConnection) -> DuckDBPyRelation:\n",
    "    return con.query(\"SELECT 'a' AS a, 0.2 AS z\")\n",
    "\n",
    "def my_process1(df:DuckDBPyRelation) -> pd.DataFrame:\n",
    "    return df.project(\"*, b*2 AS c\").df()\n",
    "\n",
    "def my_process2(df:DuckDBPyRelation) -> pa.Table:\n",
    "    return df.project(\"*, b*3 AS d\").arrow()\n",
    "\n",
    "def my_process3(df:pd.DataFrame) -> pd.DataFrame:\n",
    "    return df.assign(e=df.b*4)\n",
    "\n",
    "def my_output(df:DuckDBPyRelation) -> None:\n",
    "    df.df().hist(column=[\"b\",\"c\",\"d\",\"e\"])"
   ]
  },
  {
   "cell_type": "code",
   "execution_count": 14,
   "metadata": {},
   "outputs": [
    {
     "data": {
      "image/png": "[encoded data removed]",
      "text/plain": [
       "<Figure size 432x288 with 4 Axes>"
      ]
     },
     "metadata": {
      "needs_background": "light"
     },
     "output_type": "display_data"
    }
   ],
   "source": [
    "%%fsql duck\n",
    "df2 = CREATE USING my_create\n",
    "df1 = LOAD \"/tmp/df1.parquet\" COLUMNS a,b\n",
    "SELECT df1.*, z FROM df1 INNER JOIN df2 ON df1.a = df2.a\n",
    "PROCESS USING my_process1\n",
    "PROCESS USING my_process2\n",
    "PROCESS USING my_process3\n",
    "OUTPUT USING my_output\n"
   ]
  },
  {
   "cell_type": "markdown",
   "metadata": {},
   "source": [
    "## Functional API\n",
    "\n",
    "Just like all other Fugue execution engines, you can use functional API instead of SQL. Here is the same logic as the above SQL:"
   ]
  },
  {
   "cell_type": "code",
   "execution_count": 15,
   "metadata": {},
   "outputs": [
    {
     "data": {
      "text/plain": [
       "DataFrames()"
      ]
     },
     "execution_count": 15,
     "metadata": {},
     "output_type": "execute_result"
    },
    {
     "data": {
      "image/png": "[encoded data removed]",
      "text/plain": [
       "<Figure size 432x288 with 4 Axes>"
      ]
     },
     "metadata": {
      "needs_background": "light"
     },
     "output_type": "display_data"
    }
   ],
   "source": [
    "from fugue import FugueWorkflow\n",
    "\n",
    "dag = FugueWorkflow()\n",
    "df2 = dag.create(my_create)\n",
    "df1 = dag.load(\"/tmp/df1.parquet\", columns=[\"a\",\"b\"])\n",
    "df3 = df1.inner_join(df2)\n",
    "df3.process(my_process1).process(my_process2).process(my_process3).output(my_output)\n",
    "\n",
    "dag.run(\"duckdb\")"
   ]
  },
  {
   "cell_type": "markdown",
   "metadata": {},
   "source": [
    "## Ibis Support\n",
    "\n",
    "You can use Ibis interface with DuckDB, for the following code"
   ]
  },
  {
   "cell_type": "code",
   "execution_count": 25,
   "metadata": {},
   "outputs": [
    {
     "data": {
      "text/html": [
       "<div>\n",
       "<style scoped>\n",
       "    .dataframe tbody tr th:only-of-type {\n",
       "        vertical-align: middle;\n",
       "    }\n",
       "\n",
       "    .dataframe tbody tr th {\n",
       "        vertical-align: top;\n",
       "    }\n",
       "\n",
       "    .dataframe thead th {\n",
       "        text-align: right;\n",
       "    }\n",
       "</style>\n",
       "<table border=\"1\" class=\"dataframe\">\n",
       "  <thead>\n",
       "    <tr style=\"text-align: right;\">\n",
       "      <th></th>\n",
       "      <th>m</th>\n",
       "      <th>ct</th>\n",
       "    </tr>\n",
       "  </thead>\n",
       "  <tbody>\n",
       "    <tr>\n",
       "      <th>0</th>\n",
       "      <td>24</td>\n",
       "      <td>46</td>\n",
       "    </tr>\n",
       "    <tr>\n",
       "      <th>1</th>\n",
       "      <td>25</td>\n",
       "      <td>45</td>\n",
       "    </tr>\n",
       "  </tbody>\n",
       "</table>\n",
       "</div>"
      ],
      "text/plain": [
       "    m  ct\n",
       "0  24  46\n",
       "1  25  45"
      ]
     },
     "metadata": {},
     "output_type": "display_data"
    },
    {
     "data": {
      "text/html": [
       "<small>schema: m:long,ct:long</small>"
      ],
      "text/plain": [
       "<IPython.core.display.HTML object>"
      ]
     },
     "metadata": {},
     "output_type": "display_data"
    }
   ],
   "source": [
    "%%fsql duck\n",
    "df1 = LOAD \"/tmp/df1.parquet\"\n",
    "top2 = SELECT a, SUM(b) AS b GROUP BY a ORDER BY b DESC LIMIT 2\n",
    "top_groups = SELECT df1.* FROM df1 INNER JOIN top2 ON df1.a = top2.a\n",
    "SELECT minute(c) AS m, COUNT(*) AS ct GROUP BY 1 ORDER BY 2 DESC\n",
    "PRINT 2 ROWS"
   ]
  },
  {
   "cell_type": "markdown",
   "metadata": {},
   "source": [
    "The equivalent Fugue+Ibis expression will be:"
   ]
  },
  {
   "cell_type": "code",
   "execution_count": 26,
   "metadata": {},
   "outputs": [
    {
     "data": {
      "text/html": [
       "<div>\n",
       "<style scoped>\n",
       "    .dataframe tbody tr th:only-of-type {\n",
       "        vertical-align: middle;\n",
       "    }\n",
       "\n",
       "    .dataframe tbody tr th {\n",
       "        vertical-align: top;\n",
       "    }\n",
       "\n",
       "    .dataframe thead th {\n",
       "        text-align: right;\n",
       "    }\n",
       "</style>\n",
       "<table border=\"1\" class=\"dataframe\">\n",
       "  <thead>\n",
       "    <tr style=\"text-align: right;\">\n",
       "      <th></th>\n",
       "      <th>m</th>\n",
       "      <th>ct</th>\n",
       "    </tr>\n",
       "  </thead>\n",
       "  <tbody>\n",
       "    <tr>\n",
       "      <th>0</th>\n",
       "      <td>24</td>\n",
       "      <td>46</td>\n",
       "    </tr>\n",
       "    <tr>\n",
       "      <th>1</th>\n",
       "      <td>25</td>\n",
       "      <td>45</td>\n",
       "    </tr>\n",
       "  </tbody>\n",
       "</table>\n",
       "</div>"
      ],
      "text/plain": [
       "    m  ct\n",
       "0  24  46\n",
       "1  25  45"
      ]
     },
     "metadata": {},
     "output_type": "display_data"
    },
    {
     "data": {
      "text/html": [
       "<small>schema: m:short,ct:long</small>"
      ],
      "text/plain": [
       "<IPython.core.display.HTML object>"
      ]
     },
     "metadata": {},
     "output_type": "display_data"
    }
   ],
   "source": [
    "import fugue_ibis\n",
    "import ibis\n",
    "\n",
    "dag = FugueWorkflow()\n",
    "df1 = dag.load(\"/tmp/df1.parquet\").as_ibis()\n",
    "top2 = df1.groupby(\"a\").aggregate(df1.b.sum().name(\"b\")).sort_by(ibis.desc(\"b\")).limit(2)\n",
    "top_groups = df1.inner_join(top2, \"a\")[df1]\n",
    "res = top_groups.groupby(top_groups.c.minute().name(\"m\")).aggregate(df1.count().name(\"ct\")).sort_by(ibis.desc(\"ct\"))\n",
    "res.as_fugue().show(2)\n",
    "\n",
    "dag.run(\"duck\");\n"
   ]
  },
  {
   "cell_type": "markdown",
   "metadata": {},
   "source": [
    "## DuckDB vs Pandas as Fugue Backend\n",
    "\n",
    "If only comparing DuckDB and Pandas without considering Fugue, they both have pros and cons.\n",
    "\n",
    "The pros of Pandas:\n",
    "\n",
    "* It's feature rich.\n",
    "* It has great documentation and large amount of online examples.\n",
    "* It has strong community support.\n",
    "\n",
    "The cons of Pandas:\n",
    "\n",
    "* It's unnecessarily fat, see this [blog](https://medium.com/dunder-data/minimally-sufficient-pandas-a8e67f2a2428).\n",
    "* It's slower and it consumes more memory compared to many other alternatives.\n",
    "* It has strong assumption that the computation happens locally in memory (e.g. implicit schema, global sort, index).\n",
    "* The data types is a mess.\n",
    "\n",
    "The pros of DuckDB:\n",
    "\n",
    "* It's SQL based. SQL is great of scale agnostic computing. The same SQL may be used on distributed system with little or no modification.\n",
    "* It's extremely fast even on gigabytes of data, and the memory use is minimal too.\n",
    "* It's extremely lightweight, as of 0.3.1, the duckdb python package has no extra dependency.\n",
    "\n",
    "The cons of DuckDB:\n",
    "\n",
    "* It's not as feature rich as Pandas, and not as capable as Pandas for scientific computing.\n",
    "* It's relatively new and has less online examples.\n",
    "* It may have more bugs and more crash (segment fault) than Pandas. (With proper usage, this isn't obvious)\n",
    "\n",
    "In addition, Pandas and DuckDB have slightly different licences (BSD-3 vs MIT). DuckDB has very good support on Pandas dataframes.\n",
    "The data transfer is much faster than SQLite. Also compared to SQLite, DuckDB has a lot more data types, making it a more practical choice\n",
    "for python users.\n",
    "\n",
    "On the Fugue layer, the DuckDB execution engine is built majorly on DuckDB itself. Most of the methods are implemented directly using DuckDB's\n",
    "SQL and [DuckDBPyRelation](https://github.com/duckdb/duckdb/blob/8a0e93080023f4d3226a2021a7697fd0299bf2b8/tools/pythonpkg/duckdb-stubs/__init__.pyi#L64).\n",
    "Only a few methods, such as [map](https://github.com/fugue-project/fugue/blob/fa9d3d1b397af7835c0e4b78205228ae0877bcf5/fugue_duckdb/execution_engine.py#L162) are using `NativeExecutionEngine`'s implementation.\n",
    "\n",
    "This design keeps the data inside DuckDB through the workflow in most cases, so it can minimize the data transfer/conversion overhead, and it can take advantage of DuckDB's lazy evaluation. For example in the following code:\n",
    "\n",
    "```sql\n",
    "LOAD \"...parquet\"\n",
    "SELECT a, SUM(b) AS b GROUP BY a\n",
    "PRINT\n",
    "```\n",
    "\n",
    "Only the `PRINT` will trigger the previous steps to materialize. With lazy evaluation, the workflow can push down the column filtering of parquet\n",
    "to the load step. Because `SELECT` only requires columns `a` and `b`, DuckDB actually only loaded the two columns of data from the parquet file, makeing\n",
    "the whole process faster. In addition, all data is processed inside DuckDB without any data conversion and transfer until print step needs to fetch\n",
    "a few rows from DuckDB to render. Let's look at another example:\n",
    "\n",
    "```sql\n",
    "LOAD \"...csv\"(header=true)\n",
    "PRINT\n",
    "```\n",
    "\n",
    "Assume the CSV file is very large, the load and print will take no time. Because `PRINT` by default only needs to get 10 rows from the\n",
    "previous step, it pushes down the limit to the loading step, so only a small portion of the CSV file was actually loaded.\n",
    "\n",
    "In contrast, if you use `NativeExecutionEngine` (Pandas) as the backend, there is no lazy execution, so the load step will always load all data, making it\n",
    "less practical for data analysis.\n",
    "\n",
    "In addition, DuckDB as a SQL engine, the SQL support (including syntax and functions) is much better than `NativeExecutionEngine`'s default SQL backend\n",
    "[QPD](https://pypi.org/project/qpd/). So again, this makes data analysis on a single machine more practical.\n",
    "\n",
    "On the other hand, since Fugue DuckDB engine is backed by `NativeExecutionEngine`, it can also take full advantage of Pandas' rich features, in an\n",
    "appropriate way. We don't believe Pandas interface or the mindset behind it is right for distributed computing. In Fugue, users can heavily rely on Pandas\n",
    "for **local computing**, meaning that the appropriate places to use Pandas in Fugue is in transformers. Since DuckDB engine fully supports transformers, you can combine the strengths of DuckDB and Pandas in this way.\n",
    "\n",
    "So what is the value that Fugue adds to DuckDB?\n",
    "\n",
    "* **SQL end to end**: Fugue treats each SQL statement as an operator and chains them together, making it intuitive to express entire workflows with SQL.\n",
    "* **Pythonic expressions**: for users who prefer functional APIs, Fugue enables functional API including Ibis to use DuckDB.\n",
    "* **Minimal coding**: it further minimizes the boilerplate code of DuckDB.\n",
    "* **Seamless integration**: you can easily integrate Pandas code into the workflow, so you can enjoys the pros of both DuckDB and Pandas.\n",
    "* **Seamless migration**: when your data size is too big for a single machine, you just need to switch to a distributed Fugue engine with no code change.\n",
    "\n",
    "To sum up, using DuckDB as your Fugue backend:\n",
    "\n",
    "* It's more practical to do data analysis on a single machine. Even with gigabyte level data, the speed can be very good.\n",
    "* You can also use it to quickly iterate on the logic you want to ultimately run on Spark or Dask. It will be faster and more seamless than using `NativeExecutionEngine`.\n",
    "\n",
    "If you don't mind adding duckdb as a dependency, it's a wonderful local execution engine for Fugue.\n"
   ]
  },
  {
   "cell_type": "markdown",
   "metadata": {},
   "source": []
  }
 ],
 "metadata": {
  "kernelspec": {
   "display_name": "Python 3.8.9 64-bit",
   "language": "python",
   "name": "python3"
  },
  "language_info": {
   "codemirror_mode": {
    "name": "ipython",
    "version": 3
   },
   "file_extension": ".py",
   "mimetype": "text/x-python",
   "name": "python",
   "nbconvert_exporter": "python",
   "pygments_lexer": "ipython3",
   "version": "3.8.9"
  },
  "orig_nbformat": 2,
  "vscode": {
   "interpreter": {
    "hash": "31f2aee4e71d21fbe5cf8b01ff0e069b9275f58929596ceb00d14d90e3e16cd6"
   }
  }
 },
 "nbformat": 4,
 "nbformat_minor": 2
}
