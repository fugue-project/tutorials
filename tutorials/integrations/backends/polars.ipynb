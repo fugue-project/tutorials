{
 "cells": [
  {
   "cell_type": "markdown",
   "metadata": {},
   "source": [
    "# Fugue with Polars (UNDER DEVELOPMENT)\n",
    "\n",
    "Have questions? Chat with us on Github or Slack:\n",
    "\n",
    "[![Homepage](https://img.shields.io/badge/fugue-source--code-red?logo=github)](https://github.com/fugue-project/fugue)\n",
    "[![Slack Status](https://img.shields.io/badge/slack-join_chat-white.svg?logo=slack&style=social)](http://slack.fugue.ai)\n",
    "\n",
    "Polars is a Rust-based DataFrame library that supports multi-threaded and out-of-core operations. The performance of Polars is already very good on a local machine, so the focus of the Fugue-Polars integration is scaling out to a cluster. Fugue also has [FugueSQL](../../quick_look/ten_minutes_sql.ipynb) to run SQL on top of DataFrames, but it is a lower priority for Polars because of the existing [DuckDB](../../integrations/backends/duckdb.ipynb) integration that can be used pretty easily with Polars. Because both are based on Apache Arrow, they can be used together with zero-copy.\n",
    "\n",
    "There are two main scenarios:\n",
    "\n",
    "* Users may have a Spark, Dask, or Ray cluster available that they want to utilize to speed up an operation. Polars can handle out-of-core operations well, but it can still be faster to execute on top of a cluster.\n",
    "* Users can use the Fugue API and develop locally on Polars. When ready to scale, users just need to change the backend. \n",
    "\n",
    "Note that for distributed computing operations, a big overhead comes from I/O. This means that even if the data operation executes quickly, the transfer may make total execution time longer."
   ]
  },
  {
   "cell_type": "markdown",
   "metadata": {},
   "source": [
    "## Running Polars Code Distributedly\n",
    "\n"
   ]
  },
  {
   "cell_type": "code",
   "execution_count": 4,
   "metadata": {},
   "outputs": [],
   "source": []
  },
  {
   "cell_type": "code",
   "execution_count": 9,
   "metadata": {},
   "outputs": [],
   "source": [
    "import polars as pl\n",
    "from fugue import transform\n",
    "data = {\"group\": [\"A\", \"A\", \"A\", \"B\", \"B\", \"B\"],\n",
    "        \"number\": [10, 20, 30, 15, 25, 35]}\n",
    "df = pl.DataFrame(data)\n",
    "\n",
    "def tr1(df: pl.DataFrame) -> pl.DataFrame:\n",
    "    return df.with_columns(pl.col(\"number\").diff().alias(\"diff\"))\n",
    "\n",
    "transform(df, tr1, schema=\"group:str,number:int,diff:float\", partition={\"by\": \"group\"})"
   ]
  },
  {
   "cell_type": "code",
   "execution_count": 14,
   "metadata": {},
   "outputs": [
    {
     "name": "stderr",
     "output_type": "stream",
     "text": [
      "_0 _State.RUNNING -> _State.FAILED  Schema can't be empty\n"
     ]
    },
    {
     "ename": "SchemaError",
     "evalue": "Schema can't be empty",
     "output_type": "error",
     "traceback": [
      "\u001b[0;31m---------------------------------------------------------------------------\u001b[0m",
      "\u001b[0;31mSchemaError\u001b[0m                               Traceback (most recent call last)",
      "\u001b[1;32m/Users/kevinkho/Work/tutorials/tutorials/integrations/backends/polars.ipynb Cell 5\u001b[0m in \u001b[0;36m<cell line: 2>\u001b[0;34m()\u001b[0m\n\u001b[1;32m      <a href='vscode-notebook-cell:/Users/kevinkho/Work/tutorials/tutorials/integrations/backends/polars.ipynb#ch0000008?line=0'>1</a>\u001b[0m \u001b[39mfrom\u001b[39;00m \u001b[39mfugue\u001b[39;00m \u001b[39mimport\u001b[39;00m transform\n\u001b[0;32m----> <a href='vscode-notebook-cell:/Users/kevinkho/Work/tutorials/tutorials/integrations/backends/polars.ipynb#ch0000008?line=1'>2</a>\u001b[0m x \u001b[39m=\u001b[39m transform(df, tr1, schema\u001b[39m=\u001b[39;49m\u001b[39m\"\u001b[39;49m\u001b[39mgroup:str, number:int,diff:float\u001b[39;49m\u001b[39m\"\u001b[39;49m, partition\u001b[39m=\u001b[39;49m{\u001b[39m\"\u001b[39;49m\u001b[39mby\u001b[39;49m\u001b[39m\"\u001b[39;49m: \u001b[39m\"\u001b[39;49m\u001b[39mgroup\u001b[39;49m\u001b[39m\"\u001b[39;49m})\n",
      "File \u001b[0;32m/opt/anaconda3/envs/fugue/lib/python3.8/site-packages/fugue/workflow/api.py:174\u001b[0m, in \u001b[0;36mtransform\u001b[0;34m(df, using, schema, params, partition, callback, ignore_errors, persist, as_local, save_path, checkpoint, engine, engine_conf, as_fugue)\u001b[0m\n\u001b[1;32m    171\u001b[0m     \u001b[39melse\u001b[39;00m:\n\u001b[1;32m    172\u001b[0m         tdf\u001b[39m.\u001b[39msave(save_path, fmt\u001b[39m=\u001b[39m\u001b[39m\"\u001b[39m\u001b[39mparquet\u001b[39m\u001b[39m\"\u001b[39m)\n\u001b[0;32m--> 174\u001b[0m dag\u001b[39m.\u001b[39;49mrun(make_execution_engine(engine, conf\u001b[39m=\u001b[39;49mengine_conf, infer_by\u001b[39m=\u001b[39;49m[df]))\n\u001b[1;32m    175\u001b[0m \u001b[39mif\u001b[39;00m checkpoint:\n\u001b[1;32m    176\u001b[0m     result \u001b[39m=\u001b[39m dag\u001b[39m.\u001b[39myields[\u001b[39m\"\u001b[39m\u001b[39mresult\u001b[39m\u001b[39m\"\u001b[39m]\u001b[39m.\u001b[39mresult  \u001b[39m# type:ignore\u001b[39;00m\n",
      "File \u001b[0;32m/opt/anaconda3/envs/fugue/lib/python3.8/site-packages/fugue/workflow/workflow.py:1604\u001b[0m, in \u001b[0;36mFugueWorkflow.run\u001b[0;34m(self, engine, conf, **kwargs)\u001b[0m\n\u001b[1;32m   1602\u001b[0m             \u001b[39mif\u001b[39;00m ctb \u001b[39mis\u001b[39;00m \u001b[39mNone\u001b[39;00m:  \u001b[39m# pragma: no cover\u001b[39;00m\n\u001b[1;32m   1603\u001b[0m                 \u001b[39mraise\u001b[39;00m\n\u001b[0;32m-> 1604\u001b[0m             \u001b[39mraise\u001b[39;00m ex\u001b[39m.\u001b[39mwith_traceback(ctb)\n\u001b[1;32m   1605\u001b[0m         \u001b[39mself\u001b[39m\u001b[39m.\u001b[39m_computed \u001b[39m=\u001b[39m \u001b[39mTrue\u001b[39;00m\n\u001b[1;32m   1606\u001b[0m \u001b[39mreturn\u001b[39;00m FugueWorkflowResult(\u001b[39mself\u001b[39m\u001b[39m.\u001b[39myields)\n",
      "File \u001b[0;32m/opt/anaconda3/envs/fugue/lib/python3.8/site-packages/triad/collections/schema.py:151\u001b[0m, in \u001b[0;36mSchema.assert_not_empty\u001b[0;34m(self)\u001b[0m\n\u001b[1;32m    149\u001b[0m \u001b[39mif\u001b[39;00m \u001b[39mlen\u001b[39m(\u001b[39mself\u001b[39m) \u001b[39m>\u001b[39m \u001b[39m0\u001b[39m:\n\u001b[1;32m    150\u001b[0m     \u001b[39mreturn\u001b[39;00m \u001b[39mself\u001b[39m\n\u001b[0;32m--> 151\u001b[0m \u001b[39mraise\u001b[39;00m SchemaError(\u001b[39m\"\u001b[39m\u001b[39mSchema can\u001b[39m\u001b[39m'\u001b[39m\u001b[39mt be empty\u001b[39m\u001b[39m\"\u001b[39m)\n",
      "\u001b[0;31mSchemaError\u001b[0m: Schema can't be empty"
     ]
    }
   ],
   "source": [
    "\n"
   ]
  },
  {
   "cell_type": "code",
   "execution_count": null,
   "metadata": {},
   "outputs": [],
   "source": [
    "    def tr2(dfs: Iterable[pl.DataFrame]) -> Iterator[pl.DataFrame]:\n",
    "        for df in dfs:\n",
    "            tdf = df.with_column(pl.lit(1, pl.Int32()).alias(\"c\"))\n",
    "            yield tdf"
   ]
  }
 ],
 "metadata": {
  "kernelspec": {
   "display_name": "Python 3.8.13 ('fugue')",
   "language": "python",
   "name": "python3"
  },
  "language_info": {
   "codemirror_mode": {
    "name": "ipython",
    "version": 3
   },
   "file_extension": ".py",
   "mimetype": "text/x-python",
   "name": "python",
   "nbconvert_exporter": "python",
   "pygments_lexer": "ipython3",
   "version": "3.8.13"
  },
  "orig_nbformat": 4,
  "vscode": {
   "interpreter": {
    "hash": "9fcd6e71927f6b3e5f4fa4280b4e8e6a66aa8d4365bb61cf7ef4017620fc09b9"
   }
  }
 },
 "nbformat": 4,
 "nbformat_minor": 2
}
