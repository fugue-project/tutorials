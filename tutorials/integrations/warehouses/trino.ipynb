{
 "cells": [
  {
   "cell_type": "markdown",
   "metadata": {},
   "source": [
    "# Fugue with Trino\n",
    "\n",
    "Have questions? Chat with us on Github or Slack:\n",
    "\n",
    "[![Homepage](https://img.shields.io/badge/fugue-source--code-red?logo=github)](https://github.com/fugue-project/fugue)\n",
    "[![Slack Status](https://img.shields.io/badge/slack-join_chat-white.svg?logo=slack&style=social)](http://slack.fugue.ai)\n",
    "\n",
    "The Fugue Trino integration provides the following benefits:\n",
    "\n",
    "* significantly faster development of SQL queries\n",
    "* ability to break up pieces of logic\n",
    "* ability to test SQL without running on the warehouse\n",
    "* for Python-users, reduced boilerplate when querying warehouse data for further manipulation in Python engines (Pandas, Spark, Dask, Ray)\n",
    "\n",
    "This page is divided into three parts: setup, SQL usage, and Python usage of the BigQuery integration.\n",
    "\n",
    "## Setup\n",
    "\n",
    "Some of the configurations can be set using the `engine_conf` Fugue uses. For more information on configuring engines, see the section on [engine initialization](https://fugue-tutorials.readthedocs.io/tutorials/advanced/execution_engine.html#initialization). An example can be found below when creating the `TrinoClient`.\n",
    "\n",
    "### Installation\n",
    "\n",
    "To install the Fugue Trino integration, `fugue-warehouses` needs to be installed separately. Note that `fugue-warehouses` only supports Python 3.8 and up.\n",
    "\n",
    "```\n",
    "pip install fugue-warehouses[trino]\n",
    "```\n",
    "\n",
    "### Connecting to Trino\n",
    "\n",
    "Creating a client requires a default catalog, though queries can be made across different catalogs. The default catalog is for persisting temp tables (more information below).\n",
    "\n",
    "```python\n",
    "import os\n",
    "from fugue_trino import TrinoClient\n",
    "\n",
    "client = TrinoClient.get_or_create(\n",
    "    {\n",
    "        \"fugue.trino.catalog\": \"cloud_storage\",\n",
    "        \"fugue.trino.user\": \"kevin@konvex.io/accountadmin\",\n",
    "        \"fugue.trino.host\": \"fugue-fugue2.trino.galaxy.starburst.io\",\n",
    "        \"fugue.trino.password\": os.environ[\"TRINO_PASSWORD\"],        \n",
    "    }\n",
    ")\n",
    "```\n",
    "\n",
    "### Environment Requirement\n",
    "\n",
    "The Fugue Trino integration will sometimes persist intermediate tables to either prevent querying data again, or in order to pass the data to distributed backends.\n",
    "\n",
    "You MUST set a catalog to store temporary intermediate tables. The default schema name is `fugue_temp_schema`. You can change it through the Fugue config `fugue.trino.temp_schema`. It is strongly recommended to set a default expiration for this schema, `1 day` is a reasonable value. Setting this will be dependent on the underlying engine Trino is running on."
   ]
  },
  {
   "cell_type": "markdown",
   "metadata": {},
   "source": [
    "## Trino for SQL Users\n",
    "\n",
    "The purpose of the Trino integration is to allow users to use FugueSQL syntax on top of Trino tables. If you are not familiar with FugueSQL, you can check the [FugueSQL in 10 minutes section](../../quick_look/ten_minutes_sql.ipynb). FugueSQL has added syntax over traditional SQL, allowing developers to break up queries and iterate faster. In addition, FugueSQL supports DuckDB as a local backend, which allows users to test SQL queries locally before running them on Trino. This saves a lot of time when working on big data. Again, traditional SQL will work fine, but the advantage of FugueSQL is the sped up iteration so this tutorial will focus on the iteration process.\n",
    "\n",
    "Demoing the Trino integration is hard because of the infrastructure that needs to be setup. We used [Starburst](https://www.starburst.io/) with two catalogs. We queried BigQuery tables while writing temporary tables in Google Cloud storage. We recommend asking questions in our Slack channel because there can be specific configurations depeding on the underlying engines."
   ]
  },
  {
   "cell_type": "markdown",
   "metadata": {},
   "source": [
    "### Querying the Table\n",
    "\n",
    "Now, we are ready to run SQL queries using the [FugueSQL Jupyter Extension](https://github.com/fugue-project/fugue-jupyter), which gives us the `%%fsql` cell magic in Jupyter. We just need to add `trino` after `%%fsql` to specify the Trino engine. In the query below, we use Jinja templating to specify the table we are working on."
   ]
  },
  {
   "cell_type": "code",
   "execution_count": 2,
   "metadata": {},
   "outputs": [],
   "source": [
    "table = \"bigquery.fugue.usa_1910_2013\"\n",
    "n=3"
   ]
  },
  {
   "cell_type": "code",
   "execution_count": 3,
   "metadata": {},
   "outputs": [
    {
     "data": {
      "text/html": [
       "<div>\n",
       "<style scoped>\n",
       "    .dataframe tbody tr th:only-of-type {\n",
       "        vertical-align: middle;\n",
       "    }\n",
       "\n",
       "    .dataframe tbody tr th {\n",
       "        vertical-align: top;\n",
       "    }\n",
       "\n",
       "    .dataframe thead th {\n",
       "        text-align: right;\n",
       "    }\n",
       "</style>\n",
       "<table border=\"1\" class=\"dataframe\">\n",
       "  <thead>\n",
       "    <tr style=\"text-align: right;\">\n",
       "      <th></th>\n",
       "      <th>name:str</th>\n",
       "      <th>gender:str</th>\n",
       "      <th>ct:long</th>\n",
       "    </tr>\n",
       "  </thead>\n",
       "  <tbody>\n",
       "    <tr>\n",
       "      <th>0</th>\n",
       "      <td>Sadie</td>\n",
       "      <td>F</td>\n",
       "      <td>80812</td>\n",
       "    </tr>\n",
       "    <tr>\n",
       "      <th>1</th>\n",
       "      <td>Marie</td>\n",
       "      <td>F</td>\n",
       "      <td>461275</td>\n",
       "    </tr>\n",
       "    <tr>\n",
       "      <th>2</th>\n",
       "      <td>Edith</td>\n",
       "      <td>F</td>\n",
       "      <td>211143</td>\n",
       "    </tr>\n",
       "    <tr>\n",
       "      <th>3</th>\n",
       "      <td>Helen</td>\n",
       "      <td>F</td>\n",
       "      <td>894826</td>\n",
       "    </tr>\n",
       "    <tr>\n",
       "      <th>4</th>\n",
       "      <td>Ethel</td>\n",
       "      <td>F</td>\n",
       "      <td>195052</td>\n",
       "    </tr>\n",
       "    <tr>\n",
       "      <th>5</th>\n",
       "      <td>Hazel</td>\n",
       "      <td>F</td>\n",
       "      <td>187622</td>\n",
       "    </tr>\n",
       "    <tr>\n",
       "      <th>6</th>\n",
       "      <td>Opal</td>\n",
       "      <td>F</td>\n",
       "      <td>55892</td>\n",
       "    </tr>\n",
       "    <tr>\n",
       "      <th>7</th>\n",
       "      <td>Doris</td>\n",
       "      <td>F</td>\n",
       "      <td>448027</td>\n",
       "    </tr>\n",
       "    <tr>\n",
       "      <th>8</th>\n",
       "      <td>Elizabeth</td>\n",
       "      <td>F</td>\n",
       "      <td>1490772</td>\n",
       "    </tr>\n",
       "    <tr>\n",
       "      <th>9</th>\n",
       "      <td>Ruby</td>\n",
       "      <td>F</td>\n",
       "      <td>301607</td>\n",
       "    </tr>\n",
       "  </tbody>\n",
       "</table>\n",
       "</div>\n",
       "<font size=\"-1\">TrinoDataFrame: name:str,gender:str,ct:long</font>"
      ],
      "text/plain": [
       "<IPython.core.display.HTML object>"
      ]
     },
     "metadata": {},
     "output_type": "display_data"
    }
   ],
   "source": [
    "%%fsql trino\n",
    "SELECT name, gender, SUM(number) AS ct\n",
    "  FROM {{table}}\n",
    " GROUP BY name, gender\n",
    " PRINT"
   ]
  },
  {
   "cell_type": "markdown",
   "metadata": {},
   "source": [
    "## Breaking Up Queries\n",
    "\n",
    "We just want to get the top 3 rows for each gender so that we can iterate on smaller data before running on the full dataset. FugueSQL has a keyword `TAKE` for this operation. In order to use a table in a following cell, we can use the `YIELD` keyword instead of `PRINT`. This helps us iterate on queries piece by piece."
   ]
  },
  {
   "cell_type": "code",
   "execution_count": 4,
   "metadata": {},
   "outputs": [],
   "source": [
    "%%fsql trino\n",
    "df = SELECT name, gender, SUM(number) AS ct\n",
    "       FROM {{table}}\n",
    "      GROUP BY name, gender\n",
    " \n",
    "names = TAKE {{n}} ROWS FROM df PREPARTITION BY gender PRESORT ct DESC\n",
    "YIELD DATAFRAME"
   ]
  },
  {
   "cell_type": "markdown",
   "metadata": {},
   "source": [
    "We can even view the `YIELDED` dataframe in Python. The Python section later will detail more how we can continue to work on a query result in Pandas."
   ]
  },
  {
   "cell_type": "code",
   "execution_count": 5,
   "metadata": {},
   "outputs": [
    {
     "data": {
      "text/html": [
       "<div>\n",
       "<style scoped>\n",
       "    .dataframe tbody tr th:only-of-type {\n",
       "        vertical-align: middle;\n",
       "    }\n",
       "\n",
       "    .dataframe tbody tr th {\n",
       "        vertical-align: top;\n",
       "    }\n",
       "\n",
       "    .dataframe thead th {\n",
       "        text-align: right;\n",
       "    }\n",
       "</style>\n",
       "<table border=\"1\" class=\"dataframe\">\n",
       "  <thead>\n",
       "    <tr style=\"text-align: right;\">\n",
       "      <th></th>\n",
       "      <th>name:str</th>\n",
       "      <th>gender:str</th>\n",
       "      <th>ct:long</th>\n",
       "    </tr>\n",
       "  </thead>\n",
       "  <tbody>\n",
       "    <tr>\n",
       "      <th>0</th>\n",
       "      <td>Mary</td>\n",
       "      <td>F</td>\n",
       "      <td>3728041</td>\n",
       "    </tr>\n",
       "    <tr>\n",
       "      <th>1</th>\n",
       "      <td>Patricia</td>\n",
       "      <td>F</td>\n",
       "      <td>1567405</td>\n",
       "    </tr>\n",
       "    <tr>\n",
       "      <th>2</th>\n",
       "      <td>Elizabeth</td>\n",
       "      <td>F</td>\n",
       "      <td>1490772</td>\n",
       "    </tr>\n",
       "    <tr>\n",
       "      <th>3</th>\n",
       "      <td>James</td>\n",
       "      <td>M</td>\n",
       "      <td>4924235</td>\n",
       "    </tr>\n",
       "    <tr>\n",
       "      <th>4</th>\n",
       "      <td>John</td>\n",
       "      <td>M</td>\n",
       "      <td>4818746</td>\n",
       "    </tr>\n",
       "    <tr>\n",
       "      <th>5</th>\n",
       "      <td>Robert</td>\n",
       "      <td>M</td>\n",
       "      <td>4703680</td>\n",
       "    </tr>\n",
       "  </tbody>\n",
       "</table>\n",
       "</div>\n",
       "<font size=\"-1\">TrinoDataFrame: name:str,gender:str,ct:long</font>"
      ],
      "text/plain": [
       "TrinoDataFrame"
      ]
     },
     "execution_count": 5,
     "metadata": {},
     "output_type": "execute_result"
    }
   ],
   "source": [
    "names"
   ]
  },
  {
   "cell_type": "markdown",
   "metadata": {},
   "source": [
    "Though notice the DataFrame above is not Pandas. To bring to Pandas, just use the Fugue API"
   ]
  },
  {
   "cell_type": "code",
   "execution_count": 6,
   "metadata": {},
   "outputs": [
    {
     "data": {
      "text/html": [
       "<div>\n",
       "<style scoped>\n",
       "    .dataframe tbody tr th:only-of-type {\n",
       "        vertical-align: middle;\n",
       "    }\n",
       "\n",
       "    .dataframe tbody tr th {\n",
       "        vertical-align: top;\n",
       "    }\n",
       "\n",
       "    .dataframe thead th {\n",
       "        text-align: right;\n",
       "    }\n",
       "</style>\n",
       "<table border=\"1\" class=\"dataframe\">\n",
       "  <thead>\n",
       "    <tr style=\"text-align: right;\">\n",
       "      <th></th>\n",
       "      <th>name</th>\n",
       "      <th>gender</th>\n",
       "      <th>ct</th>\n",
       "    </tr>\n",
       "  </thead>\n",
       "  <tbody>\n",
       "    <tr>\n",
       "      <th>0</th>\n",
       "      <td>Mary</td>\n",
       "      <td>F</td>\n",
       "      <td>3728041</td>\n",
       "    </tr>\n",
       "    <tr>\n",
       "      <th>1</th>\n",
       "      <td>Patricia</td>\n",
       "      <td>F</td>\n",
       "      <td>1567405</td>\n",
       "    </tr>\n",
       "    <tr>\n",
       "      <th>2</th>\n",
       "      <td>Elizabeth</td>\n",
       "      <td>F</td>\n",
       "      <td>1490772</td>\n",
       "    </tr>\n",
       "    <tr>\n",
       "      <th>3</th>\n",
       "      <td>James</td>\n",
       "      <td>M</td>\n",
       "      <td>4924235</td>\n",
       "    </tr>\n",
       "    <tr>\n",
       "      <th>4</th>\n",
       "      <td>John</td>\n",
       "      <td>M</td>\n",
       "      <td>4818746</td>\n",
       "    </tr>\n",
       "    <tr>\n",
       "      <th>5</th>\n",
       "      <td>Robert</td>\n",
       "      <td>M</td>\n",
       "      <td>4703680</td>\n",
       "    </tr>\n",
       "  </tbody>\n",
       "</table>\n",
       "</div>"
      ],
      "text/plain": [
       "        name gender       ct\n",
       "0       Mary      F  3728041\n",
       "1   Patricia      F  1567405\n",
       "2  Elizabeth      F  1490772\n",
       "3      James      M  4924235\n",
       "4       John      M  4818746\n",
       "5     Robert      M  4703680"
      ]
     },
     "execution_count": 6,
     "metadata": {},
     "output_type": "execute_result"
    }
   ],
   "source": [
    "import fugue.api as fa\n",
    "fa.as_pandas(names)"
   ]
  },
  {
   "cell_type": "markdown",
   "metadata": {},
   "source": [
    "### FugueSQL Extensions\n",
    "\n",
    "One of the advantages of FugueSQL is keywords like `TRANSFORM` and `OUTPUT` that allow Python functions to be invoked by FugueSQL. There are some built-in extensions. For example, we can use the `seaborn` visualization library. This will bring the results of the query to Pandas, and then generate the lineplot without the need for additional boilerplate code.\n",
    "\n",
    "Custom extensions can also be written, and are a highly encouraged form of contribution to Fugue. If you are interested in adding an extension, please join the Fugue [Slack](http://slack.fugue.ai)."
   ]
  },
  {
   "cell_type": "code",
   "execution_count": 7,
   "metadata": {},
   "outputs": [
    {
     "data": {
      "image/png": "[encoded data removed]",
      "text/plain": [
       "<Figure size 640x480 with 1 Axes>"
      ]
     },
     "metadata": {},
     "output_type": "display_data"
    }
   ],
   "source": [
    "%%fsql trino\n",
    "SELECT name, year, SUM(number) AS ct\n",
    "  FROM {{table}}\n",
    " WHERE name IN (SELECT name FROM names)\n",
    " GROUP BY name, year\n",
    " ORDER BY year\n",
    "OUTPUT USING sns:lineplot(x=\"year\",y=\"ct\",hue=\"name\")"
   ]
  },
  {
   "cell_type": "markdown",
   "metadata": {},
   "source": [
    "### Productionizing SQL Queries\n",
    "\n",
    "To use the Trino integration in Python scripts, we can put everything together when done iterating using the `fugue_sql` function. We just need to remove the intermediate `YIELD` keywords."
   ]
  },
  {
   "cell_type": "code",
   "execution_count": 8,
   "metadata": {},
   "outputs": [],
   "source": [
    "import fugue.api as fa\n",
    "res = fa.fugue_sql(\"\"\"\n",
    "SELECT name, gender, SUM(number) AS ct\n",
    "  FROM {{table}}\n",
    " GROUP BY name, gender\n",
    "\n",
    "names = TAKE {{n}} ROWS PREPARTITION BY gender PRESORT ct DESC\n",
    "\n",
    "SELECT name, year, SUM(number) AS ct\n",
    "  FROM {{table}}\n",
    " WHERE name IN (SELECT name FROM names)\n",
    " GROUP BY name, year\n",
    " ORDER BY year\n",
    "\"\"\", engine=\"trino\", table=table, n=n)"
   ]
  },
  {
   "cell_type": "markdown",
   "metadata": {},
   "source": [
    "We can convert this BigQuery Table result to a Pandas DataFrame."
   ]
  },
  {
   "cell_type": "code",
   "execution_count": 9,
   "metadata": {},
   "outputs": [
    {
     "data": {
      "text/html": [
       "<div>\n",
       "<style scoped>\n",
       "    .dataframe tbody tr th:only-of-type {\n",
       "        vertical-align: middle;\n",
       "    }\n",
       "\n",
       "    .dataframe tbody tr th {\n",
       "        vertical-align: top;\n",
       "    }\n",
       "\n",
       "    .dataframe thead th {\n",
       "        text-align: right;\n",
       "    }\n",
       "</style>\n",
       "<table border=\"1\" class=\"dataframe\">\n",
       "  <thead>\n",
       "    <tr style=\"text-align: right;\">\n",
       "      <th></th>\n",
       "      <th>name</th>\n",
       "      <th>year</th>\n",
       "      <th>ct</th>\n",
       "    </tr>\n",
       "  </thead>\n",
       "  <tbody>\n",
       "    <tr>\n",
       "      <th>0</th>\n",
       "      <td>Patricia</td>\n",
       "      <td>1991</td>\n",
       "      <td>3420</td>\n",
       "    </tr>\n",
       "    <tr>\n",
       "      <th>1</th>\n",
       "      <td>Mary</td>\n",
       "      <td>1992</td>\n",
       "      <td>8447</td>\n",
       "    </tr>\n",
       "    <tr>\n",
       "      <th>2</th>\n",
       "      <td>Elizabeth</td>\n",
       "      <td>1993</td>\n",
       "      <td>17583</td>\n",
       "    </tr>\n",
       "    <tr>\n",
       "      <th>3</th>\n",
       "      <td>Mary</td>\n",
       "      <td>1993</td>\n",
       "      <td>8104</td>\n",
       "    </tr>\n",
       "    <tr>\n",
       "      <th>4</th>\n",
       "      <td>Mary</td>\n",
       "      <td>1994</td>\n",
       "      <td>7737</td>\n",
       "    </tr>\n",
       "  </tbody>\n",
       "</table>\n",
       "</div>"
      ],
      "text/plain": [
       "        name  year     ct\n",
       "0   Patricia  1991   3420\n",
       "1       Mary  1992   8447\n",
       "2  Elizabeth  1993  17583\n",
       "3       Mary  1993   8104\n",
       "4       Mary  1994   7737"
      ]
     },
     "execution_count": 9,
     "metadata": {},
     "output_type": "execute_result"
    }
   ],
   "source": [
    "fa.as_pandas(res).head()"
   ]
  },
  {
   "cell_type": "markdown",
   "metadata": {},
   "source": [
    "### Iterating on Big Data\n",
    "\n",
    "One of the common use cases is to sample the Trino table into a smaller DataFrame that can be worked on using DuckDB. This allows users to prototype SQL queries before running on the full table."
   ]
  },
  {
   "cell_type": "code",
   "execution_count": 10,
   "metadata": {},
   "outputs": [],
   "source": [
    "%%fsql trino\n",
    "SELECT *\n",
    "  FROM {{table}}\n",
    " SAMPLE 1 PERCENT\n",
    "  YIELD LOCAL DATAFRAME AS test"
   ]
  },
  {
   "cell_type": "markdown",
   "metadata": {},
   "source": [
    "Now we can use DuckDB for further iteration. This prevents us from having to query the table."
   ]
  },
  {
   "cell_type": "code",
   "execution_count": 11,
   "metadata": {},
   "outputs": [
    {
     "data": {
      "text/html": [
       "<div>\n",
       "<style scoped>\n",
       "    .dataframe tbody tr th:only-of-type {\n",
       "        vertical-align: middle;\n",
       "    }\n",
       "\n",
       "    .dataframe tbody tr th {\n",
       "        vertical-align: top;\n",
       "    }\n",
       "\n",
       "    .dataframe thead th {\n",
       "        text-align: right;\n",
       "    }\n",
       "</style>\n",
       "<table border=\"1\" class=\"dataframe\">\n",
       "  <thead>\n",
       "    <tr style=\"text-align: right;\">\n",
       "      <th></th>\n",
       "      <th>state:str</th>\n",
       "      <th>gender:str</th>\n",
       "      <th>year:long</th>\n",
       "      <th>name:str</th>\n",
       "      <th>number:long</th>\n",
       "    </tr>\n",
       "  </thead>\n",
       "  <tbody>\n",
       "    <tr>\n",
       "      <th>0</th>\n",
       "      <td>SC</td>\n",
       "      <td>F</td>\n",
       "      <td>1910</td>\n",
       "      <td>Rose</td>\n",
       "      <td>49</td>\n",
       "    </tr>\n",
       "    <tr>\n",
       "      <th>1</th>\n",
       "      <td>TX</td>\n",
       "      <td>F</td>\n",
       "      <td>1910</td>\n",
       "      <td>Marguerite</td>\n",
       "      <td>42</td>\n",
       "    </tr>\n",
       "    <tr>\n",
       "      <th>2</th>\n",
       "      <td>CT</td>\n",
       "      <td>F</td>\n",
       "      <td>1911</td>\n",
       "      <td>Gertrude</td>\n",
       "      <td>46</td>\n",
       "    </tr>\n",
       "    <tr>\n",
       "      <th>3</th>\n",
       "      <td>WI</td>\n",
       "      <td>F</td>\n",
       "      <td>1911</td>\n",
       "      <td>Marion</td>\n",
       "      <td>66</td>\n",
       "    </tr>\n",
       "    <tr>\n",
       "      <th>4</th>\n",
       "      <td>KY</td>\n",
       "      <td>F</td>\n",
       "      <td>1912</td>\n",
       "      <td>Bernice</td>\n",
       "      <td>45</td>\n",
       "    </tr>\n",
       "  </tbody>\n",
       "</table>\n",
       "</div>\n",
       "<font size=\"-1\">DuckDataFrame: state:str,gender:str,year:long,name:str,number:long</font>"
      ],
      "text/plain": [
       "<IPython.core.display.HTML object>"
      ]
     },
     "metadata": {},
     "output_type": "display_data"
    }
   ],
   "source": [
    "%%fsql duckdb\n",
    "SELECT *\n",
    "  FROM test\n",
    " PRINT 5 ROWS"
   ]
  },
  {
   "cell_type": "markdown",
   "metadata": {},
   "source": [
    "## Trino for Python Users"
   ]
  },
  {
   "cell_type": "markdown",
   "metadata": {},
   "source": [
    "### Combining Trino and Distributed Compute\n",
    "\n",
    "One of the strengths of FugueSQL is being able to seamlessly combine Python and SQL expressions. In the example below, we want to get the median value of each state in the data. This function is easy to express in Pandas, but will take a lot more code in SQL. We can use the `transform()` function in the Fugue API and apply this function on the Trino table using Spark/Dask/Ray as the backend.\n",
    "\n",
    "This set-up can be used for distributed profiling or machine learning inference on top of Trino data."
   ]
  },
  {
   "cell_type": "code",
   "execution_count": 13,
   "metadata": {},
   "outputs": [],
   "source": [
    "import pandas as pd\n",
    "from typing import List, Any\n",
    "\n",
    "# schema: *\n",
    "def median(df:pd.DataFrame) -> List[List[Any]]:\n",
    "    return [[df.state.iloc[0], df.number.median()]]\n",
    "\n",
    "fa.transform(\n",
    "    (\"trino\", \"\"\"SELECT state, number\n",
    "    FROM bigquery.fugue.usa_1910_2013\"\"\"),\n",
    "    median,\n",
    "    partition=\"state\",\n",
    "    engine=\"dask\"\n",
    ").compute().head()"
   ]
  }
 ],
 "metadata": {
  "kernelspec": {
   "display_name": "Python 3.8.16 ('fugue_trino')",
   "language": "python",
   "name": "python3"
  },
  "language_info": {
   "codemirror_mode": {
    "name": "ipython",
    "version": 3
   },
   "file_extension": ".py",
   "mimetype": "text/x-python",
   "name": "python",
   "nbconvert_exporter": "python",
   "pygments_lexer": "ipython3",
   "version": "3.8.16"
  },
  "vscode": {
   "interpreter": {
    "hash": "53e3052561c1b8fe3374d59bdddd68e7e7425b27e4ff3b266efa86afb5f60a99"
   }
  }
 },
 "nbformat": 4,
 "nbformat_minor": 2
}
