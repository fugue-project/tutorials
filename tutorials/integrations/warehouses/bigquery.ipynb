{
 "cells": [
  {
   "attachments": {},
   "cell_type": "markdown",
   "metadata": {},
   "source": [
    "# Fugue with BigQuery\n",
    "\n",
    "Have questions? Chat with us on Github or Slack:\n",
    "\n",
    "[![Homepage](https://img.shields.io/badge/fugue-source--code-red?logo=github)](https://github.com/fugue-project/fugue)\n",
    "[![Slack Status](https://img.shields.io/badge/slack-join_chat-white.svg?logo=slack&style=social)](http://slack.fugue.ai)\n",
    "\n",
    "The Fugue BigQuery integration provides the following benefits:\n",
    "\n",
    "* significantly faster development of SQL queries\n",
    "* ability to break up pieces of logic\n",
    "* ability to test SQL without running on the warehouse\n",
    "* for Python-users, reduced boilerplate when querying warehouse data for further manipulation in Python engines (Pandas, Spark, Dask, Ray)\n",
    "\n",
    "This page is divided into three parts: setup, SQL usage, and Python usage of the BigQuery integration.\n",
    "\n",
    "## Setup\n",
    "\n",
    "Some of the configurations can be set using the `engine_conf` Fugue uses. For more information on configuring engines, see the section on [engine initialization](https://fugue-tutorials.readthedocs.io/tutorials/advanced/execution_engine.html#initialization). An example can be found below when creatingthe `BigQuery` client.\n",
    "\n",
    "### Installation\n",
    "\n",
    "To install the Fugue BigQuery integration, `fugue-warehouses` needs to be installed separately. Note that `fugue-warehouses` only supports Python 3.8 and up.\n",
    "\n",
    "```\n",
    "pip install fugue fugue-warehouses[bigquery]\n",
    "```\n",
    "\n",
    "### Authenticating with Google Cloud\n",
    "\n",
    "The most common way is to use the [default credentials](https://cloud.google.com/docs/authentication/application-default-credentials). Make sure the `GOOGLE_APPLICATION_CREDENTIALS` is set to a credential file. You can also read the [authentication doc](https://cloud.google.com/bigquery/docs/authentication) of BigQuery. If you are using a distributed cluster with Spark, Dask, or Ray, all of the machines in teh cluster need to be authenticated. **`The credentials need permissions for BigQuery.**\n",
    "\n",
    "An alternative way is to keep the [service account credential json](https://developers.google.com/workspace/guides/create-credentials#service-account) as a string in an environment variable, then in Fugue configs, set `fugue.bq.credentials.env` to point to the environment variable. In this way, you only need to configure your local environment. The credential will be propagated to the compute cluster when the application is running. \n",
    "\n",
    "Some platforms have their own way to inject the credentials into your environment. For example [this](https://cloud.google.com/bigquery/docs/connect-databricks) is how Databricks users enable the service account on a cluster. If you already authenticated this way, you don't need extra steps to authenticate for Fugue.\n",
    "\n",
    "### Environment Requirement\n",
    "\n",
    "The Fugue BigQuery integration will sometimes persist intermediate tables to either prevent querying data again, or in order to pass the data to distributed backends.\n",
    "\n",
    "You MUST set a dataset to store temporary intermediate tables. The default dataset name is `FUGUE_TEMP_DATASET`. You can change it through the Fugue config `fugue.bq.temp_dataset`. It is strongly recommended to set a default expiration for this dataset, `1 day` is a reasonable value. An example of using the Fugue configuration can be found below when creating the `BigQueryClient`.\n",
    "\n",
    "You can also specify the project id or it will use the default project id of your account. This can be changed by config `fugue.bq.project`. \n",
    "\n",
    "\n",
    "### BigQuery Client\n",
    "\n",
    "`BigQueryClient` is the client singleton to talk to the BigQuery service. You may initialize the `BigQueryClient` explicitly.\n",
    "\n",
    "If you use the default credentials:\n",
    "\n",
    "```python\n",
    "from fugue_bigquery import BigQueryClient\n",
    "\n",
    "client = BigQueryClient.get_or_create()\n",
    "```\n",
    "\n",
    "or in the environment variable approach (or you have configs):\n",
    "\n",
    "```python\n",
    "from fugue_bigquery import BigQueryClient\n",
    "\n",
    "conf = {\n",
    "    \"fugue.bq.credentials.env\":\"MY_ENV\",\n",
    "    \"fugue.bq.temp_dataset\":\"my_temp\",\n",
    "}\n",
    "client = BigQueryClient.get_or_create(conf)\n",
    "```"
   ]
  },
  {
   "cell_type": "markdown",
   "metadata": {},
   "source": [
    "## BigQuery for SQL Users\n",
    "\n",
    "The purpose of the BigQuery integration is to allow users to use FugueSQL syntax on top of BigQuery tables. If you are not familiar with FugueSQL, you can check the [FugueSQL in 10 minutes section](../../quick_look/ten_minutes_sql.ipynb). FugueSQL has added syntax over traditional SQL, allowing developers to break up queries and iterate faster. In addition, FugueSQL supports DuckDB as a local backend, which allows users to test SQL queries locally before running them on BigQuery. This saves a lot of time when working on big data.\n",
    "\n",
    "To demo the BigQuery integration, we can use the public table `bigquery-public-data.usa_names.usa_1910_2013`. Again, traditional SQL will work fine, but the advantage of FugueSQL is the sped up iteration so this tutorial will focus on the iteration process.\n",
    "\n",
    "First, we parameterize the table we will query and the number of records we'll get later."
   ]
  },
  {
   "cell_type": "code",
   "execution_count": 2,
   "metadata": {},
   "outputs": [],
   "source": [
    "table = \"bigquery-public-data.usa_names.usa_1910_2013\"\n",
    "n=3"
   ]
  },
  {
   "cell_type": "markdown",
   "metadata": {},
   "source": [
    "We can then instantiate the `BigQueryClient`. In this case, we are just using the default configuration."
   ]
  },
  {
   "cell_type": "code",
   "execution_count": 5,
   "metadata": {},
   "outputs": [],
   "source": [
    "from fugue_bigquery import BigQueryClient\n",
    "\n",
    "client = BigQueryClient.get_or_create()"
   ]
  },
  {
   "cell_type": "markdown",
   "metadata": {},
   "source": [
    "### Checking Table Schema\n",
    "\n",
    "Next, we are loading in the first 10 rows so we know the schema of the table. BigQuery actually does a [full table scan](https://cloud.google.com/bigquery/docs/best-practices-performance-communication) if you do `SELECT * FROM table LIMIT 10`. This means it has to go through the whole table even if you are only fetching 10 rows. The advantage of this Python expression below is that it's optimized to not do a full scan, making the operation cheaper and faster."
   ]
  },
  {
   "cell_type": "code",
   "execution_count": 6,
   "metadata": {},
   "outputs": [
    {
     "data": {
      "text/html": [
       "<div>\n",
       "<style scoped>\n",
       "    .dataframe tbody tr th:only-of-type {\n",
       "        vertical-align: middle;\n",
       "    }\n",
       "\n",
       "    .dataframe tbody tr th {\n",
       "        vertical-align: top;\n",
       "    }\n",
       "\n",
       "    .dataframe thead th {\n",
       "        text-align: right;\n",
       "    }\n",
       "</style>\n",
       "<table border=\"1\" class=\"dataframe\">\n",
       "  <thead>\n",
       "    <tr style=\"text-align: right;\">\n",
       "      <th></th>\n",
       "      <th>state:str</th>\n",
       "      <th>gender:str</th>\n",
       "      <th>year:long</th>\n",
       "      <th>name:str</th>\n",
       "      <th>number:long</th>\n",
       "    </tr>\n",
       "  </thead>\n",
       "  <tbody>\n",
       "    <tr>\n",
       "      <th>0</th>\n",
       "      <td>AL</td>\n",
       "      <td>F</td>\n",
       "      <td>1910</td>\n",
       "      <td>Sadie</td>\n",
       "      <td>40</td>\n",
       "    </tr>\n",
       "    <tr>\n",
       "      <th>1</th>\n",
       "      <td>AL</td>\n",
       "      <td>F</td>\n",
       "      <td>1910</td>\n",
       "      <td>Mary</td>\n",
       "      <td>875</td>\n",
       "    </tr>\n",
       "    <tr>\n",
       "      <th>2</th>\n",
       "      <td>AR</td>\n",
       "      <td>F</td>\n",
       "      <td>1910</td>\n",
       "      <td>Vera</td>\n",
       "      <td>39</td>\n",
       "    </tr>\n",
       "    <tr>\n",
       "      <th>3</th>\n",
       "      <td>AR</td>\n",
       "      <td>F</td>\n",
       "      <td>1910</td>\n",
       "      <td>Marie</td>\n",
       "      <td>78</td>\n",
       "    </tr>\n",
       "    <tr>\n",
       "      <th>4</th>\n",
       "      <td>AR</td>\n",
       "      <td>F</td>\n",
       "      <td>1910</td>\n",
       "      <td>Lucille</td>\n",
       "      <td>66</td>\n",
       "    </tr>\n",
       "    <tr>\n",
       "      <th>5</th>\n",
       "      <td>CA</td>\n",
       "      <td>F</td>\n",
       "      <td>1910</td>\n",
       "      <td>Virginia</td>\n",
       "      <td>101</td>\n",
       "    </tr>\n",
       "    <tr>\n",
       "      <th>6</th>\n",
       "      <td>DC</td>\n",
       "      <td>F</td>\n",
       "      <td>1910</td>\n",
       "      <td>Margaret</td>\n",
       "      <td>72</td>\n",
       "    </tr>\n",
       "    <tr>\n",
       "      <th>7</th>\n",
       "      <td>GA</td>\n",
       "      <td>F</td>\n",
       "      <td>1910</td>\n",
       "      <td>Mildred</td>\n",
       "      <td>133</td>\n",
       "    </tr>\n",
       "    <tr>\n",
       "      <th>8</th>\n",
       "      <td>GA</td>\n",
       "      <td>F</td>\n",
       "      <td>1910</td>\n",
       "      <td>Vera</td>\n",
       "      <td>51</td>\n",
       "    </tr>\n",
       "    <tr>\n",
       "      <th>9</th>\n",
       "      <td>GA</td>\n",
       "      <td>F</td>\n",
       "      <td>1910</td>\n",
       "      <td>Sallie</td>\n",
       "      <td>92</td>\n",
       "    </tr>\n",
       "  </tbody>\n",
       "</table>\n",
       "</div>\n",
       "<font size=\"-1\">BigQueryDataFrame: state:str,gender:str,year:long,name:str,number:long</font>"
      ],
      "text/plain": [
       "<IPython.core.display.HTML object>"
      ]
     },
     "metadata": {},
     "output_type": "display_data"
    },
    {
     "data": {
      "text/html": [
       "<strong>total count: 5552452</strong>"
      ],
      "text/plain": [
       "<IPython.core.display.HTML object>"
      ]
     },
     "metadata": {},
     "output_type": "display_data"
    }
   ],
   "source": [
    "import fugue.api as fa\n",
    "fa.show((\"bq\", table), with_count=True)"
   ]
  },
  {
   "cell_type": "markdown",
   "metadata": {},
   "source": [
    "### Querying the Table\n",
    "\n",
    "Now, we are ready to run SQL queries using the [FugueSQL Jupyter Extension](https://github.com/fugue-project/fugue-jupyter), which gives us the `%%fsql` cell magic in Jupyter. We just need to add `bq` after `%%fsql` to specify the BigQuery engine. In the query below, we use Jinja templating to specify the table we are working on."
   ]
  },
  {
   "cell_type": "code",
   "execution_count": 7,
   "metadata": {},
   "outputs": [
    {
     "data": {
      "text/html": [
       "<div>\n",
       "<style scoped>\n",
       "    .dataframe tbody tr th:only-of-type {\n",
       "        vertical-align: middle;\n",
       "    }\n",
       "\n",
       "    .dataframe tbody tr th {\n",
       "        vertical-align: top;\n",
       "    }\n",
       "\n",
       "    .dataframe thead th {\n",
       "        text-align: right;\n",
       "    }\n",
       "</style>\n",
       "<table border=\"1\" class=\"dataframe\">\n",
       "  <thead>\n",
       "    <tr style=\"text-align: right;\">\n",
       "      <th></th>\n",
       "      <th>name:str</th>\n",
       "      <th>gender:str</th>\n",
       "      <th>ct:long</th>\n",
       "    </tr>\n",
       "  </thead>\n",
       "  <tbody>\n",
       "    <tr>\n",
       "      <th>0</th>\n",
       "      <td>Sadie</td>\n",
       "      <td>F</td>\n",
       "      <td>80812</td>\n",
       "    </tr>\n",
       "    <tr>\n",
       "      <th>1</th>\n",
       "      <td>Mary</td>\n",
       "      <td>F</td>\n",
       "      <td>3728041</td>\n",
       "    </tr>\n",
       "    <tr>\n",
       "      <th>2</th>\n",
       "      <td>Vera</td>\n",
       "      <td>F</td>\n",
       "      <td>113065</td>\n",
       "    </tr>\n",
       "    <tr>\n",
       "      <th>3</th>\n",
       "      <td>Marie</td>\n",
       "      <td>F</td>\n",
       "      <td>461275</td>\n",
       "    </tr>\n",
       "    <tr>\n",
       "      <th>4</th>\n",
       "      <td>Lucille</td>\n",
       "      <td>F</td>\n",
       "      <td>194353</td>\n",
       "    </tr>\n",
       "    <tr>\n",
       "      <th>5</th>\n",
       "      <td>Virginia</td>\n",
       "      <td>F</td>\n",
       "      <td>621243</td>\n",
       "    </tr>\n",
       "    <tr>\n",
       "      <th>6</th>\n",
       "      <td>Margaret</td>\n",
       "      <td>F</td>\n",
       "      <td>1120006</td>\n",
       "    </tr>\n",
       "    <tr>\n",
       "      <th>7</th>\n",
       "      <td>Mildred</td>\n",
       "      <td>F</td>\n",
       "      <td>394652</td>\n",
       "    </tr>\n",
       "    <tr>\n",
       "      <th>8</th>\n",
       "      <td>Sallie</td>\n",
       "      <td>F</td>\n",
       "      <td>30201</td>\n",
       "    </tr>\n",
       "    <tr>\n",
       "      <th>9</th>\n",
       "      <td>Edith</td>\n",
       "      <td>F</td>\n",
       "      <td>211143</td>\n",
       "    </tr>\n",
       "  </tbody>\n",
       "</table>\n",
       "</div>\n",
       "<font size=\"-1\">BigQueryDataFrame: name:str,gender:str,ct:long</font>"
      ],
      "text/plain": [
       "<IPython.core.display.HTML object>"
      ]
     },
     "metadata": {},
     "output_type": "display_data"
    }
   ],
   "source": [
    "%%fsql bq\n",
    "SELECT name, gender, SUM(number) AS ct\n",
    "  FROM `{{table}}`\n",
    " GROUP BY name, gender\n",
    " PRINT"
   ]
  },
  {
   "cell_type": "markdown",
   "metadata": {},
   "source": [
    "### Breaking Up Queries\n",
    "\n",
    "In order to use a table in a following cell, we can use the `YIELD` keyword instead of `PRINT`. In the following query below, have another operation after the `SELECT` statement that takes the top 3 rows for when `gender=M` and `gender=F`."
   ]
  },
  {
   "cell_type": "code",
   "execution_count": 8,
   "metadata": {},
   "outputs": [],
   "source": [
    "%%fsql bq\n",
    "df = SELECT name, gender, SUM(number) AS ct\n",
    "       FROM `{{table}}`\n",
    "      GROUP BY name, gender\n",
    " \n",
    "names = TAKE {{n}} ROWS FROM df PREPARTITION BY gender PRESORT ct DESC\n",
    "YIELD DATAFRAME"
   ]
  },
  {
   "cell_type": "markdown",
   "metadata": {},
   "source": [
    "We can even view the `YIELDED` dataframe in Python. The Python section later will detail more how we can continue to work on a query result in Pandas."
   ]
  },
  {
   "cell_type": "code",
   "execution_count": 9,
   "metadata": {},
   "outputs": [
    {
     "data": {
      "text/html": [
       "<div>\n",
       "<style scoped>\n",
       "    .dataframe tbody tr th:only-of-type {\n",
       "        vertical-align: middle;\n",
       "    }\n",
       "\n",
       "    .dataframe tbody tr th {\n",
       "        vertical-align: top;\n",
       "    }\n",
       "\n",
       "    .dataframe thead th {\n",
       "        text-align: right;\n",
       "    }\n",
       "</style>\n",
       "<table border=\"1\" class=\"dataframe\">\n",
       "  <thead>\n",
       "    <tr style=\"text-align: right;\">\n",
       "      <th></th>\n",
       "      <th>name:str</th>\n",
       "      <th>gender:str</th>\n",
       "      <th>ct:long</th>\n",
       "    </tr>\n",
       "  </thead>\n",
       "  <tbody>\n",
       "    <tr>\n",
       "      <th>0</th>\n",
       "      <td>James</td>\n",
       "      <td>M</td>\n",
       "      <td>4924235</td>\n",
       "    </tr>\n",
       "    <tr>\n",
       "      <th>1</th>\n",
       "      <td>John</td>\n",
       "      <td>M</td>\n",
       "      <td>4818746</td>\n",
       "    </tr>\n",
       "    <tr>\n",
       "      <th>2</th>\n",
       "      <td>Robert</td>\n",
       "      <td>M</td>\n",
       "      <td>4703680</td>\n",
       "    </tr>\n",
       "    <tr>\n",
       "      <th>3</th>\n",
       "      <td>Mary</td>\n",
       "      <td>F</td>\n",
       "      <td>3728041</td>\n",
       "    </tr>\n",
       "    <tr>\n",
       "      <th>4</th>\n",
       "      <td>Patricia</td>\n",
       "      <td>F</td>\n",
       "      <td>1567405</td>\n",
       "    </tr>\n",
       "    <tr>\n",
       "      <th>5</th>\n",
       "      <td>Elizabeth</td>\n",
       "      <td>F</td>\n",
       "      <td>1490772</td>\n",
       "    </tr>\n",
       "  </tbody>\n",
       "</table>\n",
       "</div>\n",
       "<font size=\"-1\">BigQueryDataFrame: name:str,gender:str,ct:long</font>"
      ],
      "text/plain": [
       "BigQueryDataFrame"
      ]
     },
     "execution_count": 9,
     "metadata": {},
     "output_type": "execute_result"
    }
   ],
   "source": [
    "names"
   ]
  },
  {
   "cell_type": "markdown",
   "metadata": {},
   "source": [
    "### FugueSQL Extensions\n",
    "\n",
    "One of the advantages of FugueSQL is keywords like `TRANSFORM` and `OUTPUT` that allow Python functions to be invoked by FugueSQL. There are some built-in extensions. For example, we can use the `seaborn` visualization library. This will bring the results of the query to Pandas, and then generate the lineplot without the need for additional boilerplate code.\n",
    "\n",
    "Custom extensions can also be written, and are a highly encouraged form of contribution to Fugue. If you are interested in adding an extension, please join the Fugue [Slack](http://slack.fugue.ai)."
   ]
  },
  {
   "cell_type": "code",
   "execution_count": 10,
   "metadata": {},
   "outputs": [
    {
     "data": {
      "image/png": "[encoded data removed]",
      "text/plain": [
       "<Figure size 640x480 with 1 Axes>"
      ]
     },
     "metadata": {},
     "output_type": "display_data"
    }
   ],
   "source": [
    "%%fsql bq\n",
    "SELECT name, year, SUM(number) AS ct\n",
    "  FROM `{{table}}`\n",
    " WHERE name IN (SELECT name FROM names)\n",
    " GROUP BY name, year\n",
    " ORDER BY year\n",
    "OUTPUT USING sns:lineplot(x=\"year\",y=\"ct\",hue=\"name\")"
   ]
  },
  {
   "cell_type": "markdown",
   "metadata": {},
   "source": [
    "### Productionizing SQL Queries\n",
    "\n",
    "To use the BigQuery integration in Python scripts, we can put everything together when done iterating using the `fugue_sql` function. We just need to remove the intermediate `YIELD` keywords."
   ]
  },
  {
   "cell_type": "code",
   "execution_count": 30,
   "metadata": {},
   "outputs": [],
   "source": [
    "import fugue.api as fa\n",
    "res = fa.fugue_sql(\"\"\"\n",
    "SELECT name, gender, SUM(number) AS ct\n",
    "  FROM `{{table}}`\n",
    " GROUP BY name, gender\n",
    "\n",
    "names = TAKE {{n}} ROWS PREPARTITION BY gender PRESORT ct DESC\n",
    "\n",
    "SELECT name, year, SUM(number) AS ct\n",
    "  FROM `{{table}}`\n",
    " WHERE name IN (SELECT name FROM names)\n",
    " GROUP BY name, year\n",
    " ORDER BY year\n",
    "\"\"\", engine=\"bq\", table=table, n=n)"
   ]
  },
  {
   "cell_type": "markdown",
   "metadata": {},
   "source": [
    "We can convert this BigQuery Table result to a Pandas DataFrame."
   ]
  },
  {
   "cell_type": "code",
   "execution_count": 33,
   "metadata": {},
   "outputs": [
    {
     "data": {
      "text/html": [
       "<div>\n",
       "<style scoped>\n",
       "    .dataframe tbody tr th:only-of-type {\n",
       "        vertical-align: middle;\n",
       "    }\n",
       "\n",
       "    .dataframe tbody tr th {\n",
       "        vertical-align: top;\n",
       "    }\n",
       "\n",
       "    .dataframe thead th {\n",
       "        text-align: right;\n",
       "    }\n",
       "</style>\n",
       "<table border=\"1\" class=\"dataframe\">\n",
       "  <thead>\n",
       "    <tr style=\"text-align: right;\">\n",
       "      <th></th>\n",
       "      <th>name</th>\n",
       "      <th>year</th>\n",
       "      <th>ct</th>\n",
       "    </tr>\n",
       "  </thead>\n",
       "  <tbody>\n",
       "    <tr>\n",
       "      <th>0</th>\n",
       "      <td>Patricia</td>\n",
       "      <td>1910</td>\n",
       "      <td>260</td>\n",
       "    </tr>\n",
       "    <tr>\n",
       "      <th>1</th>\n",
       "      <td>John</td>\n",
       "      <td>1910</td>\n",
       "      <td>11479</td>\n",
       "    </tr>\n",
       "    <tr>\n",
       "      <th>2</th>\n",
       "      <td>Mary</td>\n",
       "      <td>1910</td>\n",
       "      <td>22906</td>\n",
       "    </tr>\n",
       "    <tr>\n",
       "      <th>3</th>\n",
       "      <td>Elizabeth</td>\n",
       "      <td>1910</td>\n",
       "      <td>5791</td>\n",
       "    </tr>\n",
       "    <tr>\n",
       "      <th>4</th>\n",
       "      <td>Robert</td>\n",
       "      <td>1910</td>\n",
       "      <td>5609</td>\n",
       "    </tr>\n",
       "  </tbody>\n",
       "</table>\n",
       "</div>"
      ],
      "text/plain": [
       "        name  year     ct\n",
       "0   Patricia  1910    260\n",
       "1       John  1910  11479\n",
       "2       Mary  1910  22906\n",
       "3  Elizabeth  1910   5791\n",
       "4     Robert  1910   5609"
      ]
     },
     "execution_count": 33,
     "metadata": {},
     "output_type": "execute_result"
    }
   ],
   "source": [
    "fa.as_pandas(res).head()"
   ]
  },
  {
   "cell_type": "markdown",
   "metadata": {},
   "source": [
    "### Iterating on SQL Queries\n",
    "\n",
    "One of the common use cases is to sample the BigQuery table into a smaller DataFrame that can be worked on using DuckDB. This allows users to prototype SQL queries before running on the full table."
   ]
  },
  {
   "cell_type": "code",
   "execution_count": 11,
   "metadata": {},
   "outputs": [],
   "source": [
    "%%fsql bq\n",
    "SELECT *\n",
    "  FROM `{{table}}`\n",
    " SAMPLE 1 PERCENT\n",
    "  YIELD LOCAL DATAFRAME AS test"
   ]
  },
  {
   "cell_type": "markdown",
   "metadata": {},
   "source": [
    "Now we can use DuckDB for further iteration. This prevents us from having to query the table."
   ]
  },
  {
   "cell_type": "code",
   "execution_count": 34,
   "metadata": {},
   "outputs": [
    {
     "data": {
      "text/html": [
       "<div>\n",
       "<style scoped>\n",
       "    .dataframe tbody tr th:only-of-type {\n",
       "        vertical-align: middle;\n",
       "    }\n",
       "\n",
       "    .dataframe tbody tr th {\n",
       "        vertical-align: top;\n",
       "    }\n",
       "\n",
       "    .dataframe thead th {\n",
       "        text-align: right;\n",
       "    }\n",
       "</style>\n",
       "<table border=\"1\" class=\"dataframe\">\n",
       "  <thead>\n",
       "    <tr style=\"text-align: right;\">\n",
       "      <th></th>\n",
       "      <th>state:str</th>\n",
       "      <th>gender:str</th>\n",
       "      <th>year:long</th>\n",
       "      <th>name:str</th>\n",
       "      <th>number:long</th>\n",
       "    </tr>\n",
       "  </thead>\n",
       "  <tbody>\n",
       "    <tr>\n",
       "      <th>0</th>\n",
       "      <td>IA</td>\n",
       "      <td>F</td>\n",
       "      <td>1911</td>\n",
       "      <td>Virginia</td>\n",
       "      <td>39</td>\n",
       "    </tr>\n",
       "    <tr>\n",
       "      <th>1</th>\n",
       "      <td>OK</td>\n",
       "      <td>F</td>\n",
       "      <td>1913</td>\n",
       "      <td>Ida</td>\n",
       "      <td>63</td>\n",
       "    </tr>\n",
       "    <tr>\n",
       "      <th>2</th>\n",
       "      <td>GA</td>\n",
       "      <td>F</td>\n",
       "      <td>1914</td>\n",
       "      <td>Nellie</td>\n",
       "      <td>156</td>\n",
       "    </tr>\n",
       "    <tr>\n",
       "      <th>3</th>\n",
       "      <td>MS</td>\n",
       "      <td>F</td>\n",
       "      <td>1914</td>\n",
       "      <td>Nancy</td>\n",
       "      <td>52</td>\n",
       "    </tr>\n",
       "    <tr>\n",
       "      <th>4</th>\n",
       "      <td>AR</td>\n",
       "      <td>F</td>\n",
       "      <td>1917</td>\n",
       "      <td>Ella</td>\n",
       "      <td>72</td>\n",
       "    </tr>\n",
       "  </tbody>\n",
       "</table>\n",
       "</div>\n",
       "<font size=\"-1\">DuckDataFrame: state:str,gender:str,year:long,name:str,number:long</font>"
      ],
      "text/plain": [
       "<IPython.core.display.HTML object>"
      ]
     },
     "metadata": {},
     "output_type": "display_data"
    }
   ],
   "source": [
    "%%fsql duckdb\n",
    "SELECT *\n",
    "  FROM test\n",
    " PRINT 5 ROWS"
   ]
  },
  {
   "cell_type": "markdown",
   "metadata": {},
   "source": [
    "## BigQuery for Python Users\n",
    "\n",
    "The BigQuery extension also has a programmatic API for Python users. It contains a lot of helper functions designed to pull down BigQuery data for further development with minimal lines of code.\n",
    "\n",
    "### Getting Table Schema\n",
    "\n",
    "This function get the schema of the table or the query without execution."
   ]
  },
  {
   "cell_type": "code",
   "execution_count": 14,
   "metadata": {},
   "outputs": [
    {
     "data": {
      "text/plain": [
       "state:str,gender:str,year:long,name:str,number:long"
      ]
     },
     "execution_count": 14,
     "metadata": {},
     "output_type": "execute_result"
    }
   ],
   "source": [
    "import fugue_bigquery.api as fbqa\n",
    "\n",
    "fbqa.get_schema(\"bigquery-public-data.usa_names.usa_1910_2013\")"
   ]
  },
  {
   "cell_type": "markdown",
   "metadata": {},
   "source": [
    "It can also be applied to queries for quick debugging."
   ]
  },
  {
   "cell_type": "code",
   "execution_count": 15,
   "metadata": {},
   "outputs": [
    {
     "data": {
      "text/plain": [
       "ct:long"
      ]
     },
     "execution_count": 15,
     "metadata": {},
     "output_type": "execute_result"
    }
   ],
   "source": [
    "fbqa.get_schema(\"SELECT COUNT(*) AS ct FROM `bigquery-public-data.usa_names.usa_1910_2013`\")"
   ]
  },
  {
   "attachments": {},
   "cell_type": "markdown",
   "metadata": {},
   "source": [
    "### Loading a Table with Python\n",
    "\n",
    "This function loads the table under the [execution engine context](../../quick_look/ten_minutes.ipynb#engine-context). \n",
    "\n",
    "* If the engine is `BigQueryExecutionEngine`, it will return `BigQueryDataFrame` or the underlying Ibis table, depending on `as_fugue`.\n",
    "* If the engine is not a distributed engine (like Pandas), then it will load the entire result as a local dataframe.\n",
    "* If the engine is a distributed engine, it will use the engine to distributedly load the table content."
   ]
  },
  {
   "cell_type": "markdown",
   "metadata": {},
   "source": [
    "This will return as Ibis table. This table will be compatible with any succeeding Fugue API call."
   ]
  },
  {
   "cell_type": "code",
   "execution_count": 16,
   "metadata": {},
   "outputs": [
    {
     "data": {
      "text/html": [
       "<pre style=\"white-space:pre;overflow-x:auto;line-height:normal;font-family:Menlo,'DejaVu Sans Mono',consolas,'Courier New',monospace\">BigQueryTable: bigquery-public-data.usa_names.usa_1910_2013\n",
       "  state  string\n",
       "  gender string\n",
       "  year   int64\n",
       "  name   string\n",
       "  number int64\n",
       "</pre>\n"
      ],
      "text/plain": [
       "BigQueryTable: bigquery-public-data.usa_names.usa_1910_2013\n",
       "  state  string\n",
       "  gender string\n",
       "  year   int64\n",
       "  name   string\n",
       "  number int64"
      ]
     },
     "execution_count": 16,
     "metadata": {},
     "output_type": "execute_result"
    }
   ],
   "source": [
    "# Ibis table\n",
    "fbqa.load_table(\"bigquery-public-data.usa_names.usa_1910_2013\")  "
   ]
  },
  {
   "attachments": {},
   "cell_type": "markdown",
   "metadata": {},
   "source": [
    "Notice the `sample` parameter can effectively reduce the size of data loaded so it saves cost. Use it when you load the table with Pandas to reduce the data transfer."
   ]
  },
  {
   "cell_type": "code",
   "execution_count": 18,
   "metadata": {},
   "outputs": [
    {
     "data": {
      "text/html": [
       "<div>\n",
       "<style scoped>\n",
       "    .dataframe tbody tr th:only-of-type {\n",
       "        vertical-align: middle;\n",
       "    }\n",
       "\n",
       "    .dataframe tbody tr th {\n",
       "        vertical-align: top;\n",
       "    }\n",
       "\n",
       "    .dataframe thead th {\n",
       "        text-align: right;\n",
       "    }\n",
       "</style>\n",
       "<table border=\"1\" class=\"dataframe\">\n",
       "  <thead>\n",
       "    <tr style=\"text-align: right;\">\n",
       "      <th></th>\n",
       "      <th>state</th>\n",
       "      <th>gender</th>\n",
       "      <th>year</th>\n",
       "      <th>name</th>\n",
       "      <th>number</th>\n",
       "    </tr>\n",
       "  </thead>\n",
       "  <tbody>\n",
       "    <tr>\n",
       "      <th>0</th>\n",
       "      <td>AL</td>\n",
       "      <td>F</td>\n",
       "      <td>1910</td>\n",
       "      <td>Lillian</td>\n",
       "      <td>99</td>\n",
       "    </tr>\n",
       "    <tr>\n",
       "      <th>1</th>\n",
       "      <td>AL</td>\n",
       "      <td>F</td>\n",
       "      <td>1910</td>\n",
       "      <td>Ruby</td>\n",
       "      <td>204</td>\n",
       "    </tr>\n",
       "    <tr>\n",
       "      <th>2</th>\n",
       "      <td>AL</td>\n",
       "      <td>F</td>\n",
       "      <td>1910</td>\n",
       "      <td>Helen</td>\n",
       "      <td>76</td>\n",
       "    </tr>\n",
       "    <tr>\n",
       "      <th>3</th>\n",
       "      <td>AL</td>\n",
       "      <td>F</td>\n",
       "      <td>1910</td>\n",
       "      <td>Eunice</td>\n",
       "      <td>41</td>\n",
       "    </tr>\n",
       "    <tr>\n",
       "      <th>4</th>\n",
       "      <td>AR</td>\n",
       "      <td>F</td>\n",
       "      <td>1910</td>\n",
       "      <td>Dora</td>\n",
       "      <td>42</td>\n",
       "    </tr>\n",
       "  </tbody>\n",
       "</table>\n",
       "</div>"
      ],
      "text/plain": [
       "  state gender  year     name  number\n",
       "0    AL      F  1910  Lillian      99\n",
       "1    AL      F  1910     Ruby     204\n",
       "2    AL      F  1910    Helen      76\n",
       "3    AL      F  1910   Eunice      41\n",
       "4    AR      F  1910     Dora      42"
      ]
     },
     "execution_count": 18,
     "metadata": {},
     "output_type": "execute_result"
    }
   ],
   "source": [
    "# Pandas DataFrame\n",
    "df = fbqa.load_table(\"bigquery-public-data.usa_names.usa_1910_2013\", sample=0.0001, engine=\"pandas\")\n",
    "df.head()"
   ]
  },
  {
   "attachments": {},
   "cell_type": "markdown",
   "metadata": {},
   "source": [
    "You can use `columns` and `row_filter` to futher subset the data. `row_filter` resembles a SQL `WHERE` clause."
   ]
  },
  {
   "cell_type": "code",
   "execution_count": 23,
   "metadata": {},
   "outputs": [
    {
     "data": {
      "text/html": [
       "<div>\n",
       "<style scoped>\n",
       "    .dataframe tbody tr th:only-of-type {\n",
       "        vertical-align: middle;\n",
       "    }\n",
       "\n",
       "    .dataframe tbody tr th {\n",
       "        vertical-align: top;\n",
       "    }\n",
       "\n",
       "    .dataframe thead th {\n",
       "        text-align: right;\n",
       "    }\n",
       "</style>\n",
       "<table border=\"1\" class=\"dataframe\">\n",
       "  <thead>\n",
       "    <tr style=\"text-align: right;\">\n",
       "      <th></th>\n",
       "      <th>state</th>\n",
       "      <th>gender</th>\n",
       "      <th>name</th>\n",
       "    </tr>\n",
       "  </thead>\n",
       "  <tbody>\n",
       "    <tr>\n",
       "      <th>0</th>\n",
       "      <td>AL</td>\n",
       "      <td>F</td>\n",
       "      <td>Mary</td>\n",
       "    </tr>\n",
       "    <tr>\n",
       "      <th>1</th>\n",
       "      <td>NC</td>\n",
       "      <td>F</td>\n",
       "      <td>Mary</td>\n",
       "    </tr>\n",
       "    <tr>\n",
       "      <th>2</th>\n",
       "      <td>TX</td>\n",
       "      <td>F</td>\n",
       "      <td>Mary</td>\n",
       "    </tr>\n",
       "    <tr>\n",
       "      <th>3</th>\n",
       "      <td>NJ</td>\n",
       "      <td>F</td>\n",
       "      <td>Mary</td>\n",
       "    </tr>\n",
       "    <tr>\n",
       "      <th>4</th>\n",
       "      <td>UT</td>\n",
       "      <td>F</td>\n",
       "      <td>Mary</td>\n",
       "    </tr>\n",
       "  </tbody>\n",
       "</table>\n",
       "</div>"
      ],
      "text/plain": [
       "  state gender  name\n",
       "0    AL      F  Mary\n",
       "1    NC      F  Mary\n",
       "2    TX      F  Mary\n",
       "3    NJ      F  Mary\n",
       "4    UT      F  Mary"
      ]
     },
     "execution_count": 23,
     "metadata": {},
     "output_type": "execute_result"
    }
   ],
   "source": [
    "df = fbqa.load_table(\"bigquery-public-data.usa_names.usa_1910_2013\", \n",
    "                     sample=0.0001, \n",
    "                     columns=[\"state\", \"gender\",\"name\"],\n",
    "                     row_filter=\"name='Mary'\",\n",
    "                     engine=\"pandas\")\n",
    "df.head()"
   ]
  },
  {
   "cell_type": "markdown",
   "metadata": {},
   "source": [
    "### Loading a Table with SQL Query\n",
    "\n",
    "It is similar to load_table, but the input will be a SQL query. It follows similar rules to `load_table` when deciding how to materialize the table (Ibis, Pandas, or Spark/Dask/Ray)."
   ]
  },
  {
   "cell_type": "code",
   "execution_count": 8,
   "metadata": {},
   "outputs": [
    {
     "data": {
      "text/html": [
       "<pre style=\"white-space:pre;overflow-x:auto;line-height:normal;font-family:Menlo,'DejaVu Sans Mono',consolas,'Courier New',monospace\">SQLQueryResult\n",
       "  query: 'SELECT COUNT(*) AS ct FROM `bigquery-public-data.usa_names.usa_1910_2013` …'\n",
       "  schema:\n",
       "    ct int64\n",
       "</pre>\n"
      ],
      "text/plain": [
       "SQLQueryResult\n",
       "  query: 'SELECT COUNT(*) AS ct FROM `bigquery-public-data.usa_names.usa_1910_2013` …'\n",
       "  schema:\n",
       "    ct int64"
      ]
     },
     "execution_count": 8,
     "metadata": {},
     "output_type": "execute_result"
    }
   ],
   "source": [
    "# Ibis table\n",
    "fbqa.load_sql(\"\"\"\n",
    "SELECT COUNT(*) AS ct\n",
    "FROM `bigquery-public-data.usa_names.usa_1910_2013`\n",
    "WHERE state='CA'\n",
    "\"\"\")  "
   ]
  },
  {
   "cell_type": "code",
   "execution_count": 29,
   "metadata": {},
   "outputs": [
    {
     "data": {
      "text/html": [
       "<div>\n",
       "<style scoped>\n",
       "    .dataframe tbody tr th:only-of-type {\n",
       "        vertical-align: middle;\n",
       "    }\n",
       "\n",
       "    .dataframe tbody tr th {\n",
       "        vertical-align: top;\n",
       "    }\n",
       "\n",
       "    .dataframe thead th {\n",
       "        text-align: right;\n",
       "    }\n",
       "</style>\n",
       "<table border=\"1\" class=\"dataframe\">\n",
       "  <thead>\n",
       "    <tr style=\"text-align: right;\">\n",
       "      <th></th>\n",
       "      <th>name</th>\n",
       "    </tr>\n",
       "  </thead>\n",
       "  <tbody>\n",
       "    <tr>\n",
       "      <th>0</th>\n",
       "      <td>Gertrude</td>\n",
       "    </tr>\n",
       "    <tr>\n",
       "      <th>1</th>\n",
       "      <td>Beatrice</td>\n",
       "    </tr>\n",
       "    <tr>\n",
       "      <th>2</th>\n",
       "      <td>Alice</td>\n",
       "    </tr>\n",
       "    <tr>\n",
       "      <th>3</th>\n",
       "      <td>Phyllis</td>\n",
       "    </tr>\n",
       "    <tr>\n",
       "      <th>4</th>\n",
       "      <td>Vera</td>\n",
       "    </tr>\n",
       "  </tbody>\n",
       "</table>\n",
       "</div>"
      ],
      "text/plain": [
       "       name\n",
       "0  Gertrude\n",
       "1  Beatrice\n",
       "2     Alice\n",
       "3   Phyllis\n",
       "4      Vera"
      ]
     },
     "execution_count": 29,
     "metadata": {},
     "output_type": "execute_result"
    }
   ],
   "source": [
    "# Pandas DataFrame\n",
    "fbqa.load_sql(\"\"\"\n",
    "SELECT name\n",
    "FROM `bigquery-public-data.usa_names.usa_1910_2013` TABLESAMPLE SYSTEM (1 PERCENT)\n",
    "WHERE state='CA'\n",
    "\"\"\", engine=\"pandas\").head()"
   ]
  },
  {
   "cell_type": "markdown",
   "metadata": {},
   "source": [
    "### Combining BigQuery and Distributed Compute\n",
    "\n",
    "One of the strengths of FugueSQL is being able to seamlessly combine Python and SQL expressions. In the example below, we want to get the median value of each state in the data. This function is easy to express in Pandas, but will take a lot more code in SQL. We can use the `transform()` function in the Fugue API and apply this function on the BigQuery table using Spark/Dask/Ray as the backend.\n",
    "\n",
    "First, we need to create the dataset for persisting intermediate data. Below is an example where we create the `FUGUE_TEMP_DATASET` under the `fugue-analytics` project.\n",
    "\n",
    "![img](../../../images/warehouses/create_bigquery_dataset.png)"
   ]
  },
  {
   "cell_type": "markdown",
   "metadata": {},
   "source": [
    "Now we can use Spark, Dask, or Ray to consume the BigQuery table and run Python libraries on it. This set-up can be used for distributed profiling or machine learning inference on top of BigQuery data."
   ]
  },
  {
   "cell_type": "code",
   "execution_count": 26,
   "metadata": {},
   "outputs": [
    {
     "data": {
      "text/html": [
       "<div>\n",
       "<style scoped>\n",
       "    .dataframe tbody tr th:only-of-type {\n",
       "        vertical-align: middle;\n",
       "    }\n",
       "\n",
       "    .dataframe tbody tr th {\n",
       "        vertical-align: top;\n",
       "    }\n",
       "\n",
       "    .dataframe thead th {\n",
       "        text-align: right;\n",
       "    }\n",
       "</style>\n",
       "<table border=\"1\" class=\"dataframe\">\n",
       "  <thead>\n",
       "    <tr style=\"text-align: right;\">\n",
       "      <th></th>\n",
       "      <th>state</th>\n",
       "      <th>number</th>\n",
       "    </tr>\n",
       "  </thead>\n",
       "  <tbody>\n",
       "    <tr>\n",
       "      <th>0</th>\n",
       "      <td>AK</td>\n",
       "      <td>9</td>\n",
       "    </tr>\n",
       "    <tr>\n",
       "      <th>1</th>\n",
       "      <td>AL</td>\n",
       "      <td>13</td>\n",
       "    </tr>\n",
       "    <tr>\n",
       "      <th>2</th>\n",
       "      <td>AR</td>\n",
       "      <td>13</td>\n",
       "    </tr>\n",
       "    <tr>\n",
       "      <th>3</th>\n",
       "      <td>AZ</td>\n",
       "      <td>12</td>\n",
       "    </tr>\n",
       "    <tr>\n",
       "      <th>4</th>\n",
       "      <td>CA</td>\n",
       "      <td>13</td>\n",
       "    </tr>\n",
       "  </tbody>\n",
       "</table>\n",
       "</div>"
      ],
      "text/plain": [
       "  state  number\n",
       "0    AK       9\n",
       "1    AL      13\n",
       "2    AR      13\n",
       "3    AZ      12\n",
       "4    CA      13"
      ]
     },
     "execution_count": 26,
     "metadata": {},
     "output_type": "execute_result"
    }
   ],
   "source": [
    "import pandas as pd\n",
    "from typing import List, Any\n",
    "\n",
    "# schema: *\n",
    "def median(df:pd.DataFrame) -> List[List[Any]]:\n",
    "    return [[df.state.iloc[0], df.number.median()]]\n",
    "\n",
    "fa.transform(\n",
    "    (\"bq\", \"\"\"SELECT state, number\n",
    "    FROM `bigquery-public-data.usa_names.usa_1910_2013` TABLESAMPLE SYSTEM (1 PERCENT)\"\"\"),\n",
    "    median,\n",
    "    partition=\"state\",\n",
    "    engine=\"dask\"\n",
    ").compute().head()"
   ]
  },
  {
   "attachments": {},
   "cell_type": "markdown",
   "metadata": {},
   "source": [
    "## BigQuery with Broader Fugue API\n",
    "\n",
    "You can use the tuple `(\"bq\", table_or_sql)` to represent a dataframe that can be used by any function in the standalone Fugue API:"
   ]
  },
  {
   "cell_type": "code",
   "execution_count": 27,
   "metadata": {},
   "outputs": [
    {
     "data": {
      "text/html": [
       "<div>\n",
       "<style scoped>\n",
       "    .dataframe tbody tr th:only-of-type {\n",
       "        vertical-align: middle;\n",
       "    }\n",
       "\n",
       "    .dataframe tbody tr th {\n",
       "        vertical-align: top;\n",
       "    }\n",
       "\n",
       "    .dataframe thead th {\n",
       "        text-align: right;\n",
       "    }\n",
       "</style>\n",
       "<table border=\"1\" class=\"dataframe\">\n",
       "  <thead>\n",
       "    <tr style=\"text-align: right;\">\n",
       "      <th></th>\n",
       "      <th>state:str</th>\n",
       "      <th>gender:str</th>\n",
       "      <th>year:long</th>\n",
       "      <th>name:str</th>\n",
       "      <th>number:long</th>\n",
       "    </tr>\n",
       "  </thead>\n",
       "  <tbody>\n",
       "    <tr>\n",
       "      <th>0</th>\n",
       "      <td>AL</td>\n",
       "      <td>F</td>\n",
       "      <td>1910</td>\n",
       "      <td>Sadie</td>\n",
       "      <td>40</td>\n",
       "    </tr>\n",
       "    <tr>\n",
       "      <th>1</th>\n",
       "      <td>AL</td>\n",
       "      <td>F</td>\n",
       "      <td>1910</td>\n",
       "      <td>Mary</td>\n",
       "      <td>875</td>\n",
       "    </tr>\n",
       "    <tr>\n",
       "      <th>2</th>\n",
       "      <td>AR</td>\n",
       "      <td>F</td>\n",
       "      <td>1910</td>\n",
       "      <td>Vera</td>\n",
       "      <td>39</td>\n",
       "    </tr>\n",
       "    <tr>\n",
       "      <th>3</th>\n",
       "      <td>AR</td>\n",
       "      <td>F</td>\n",
       "      <td>1910</td>\n",
       "      <td>Marie</td>\n",
       "      <td>78</td>\n",
       "    </tr>\n",
       "    <tr>\n",
       "      <th>4</th>\n",
       "      <td>AR</td>\n",
       "      <td>F</td>\n",
       "      <td>1910</td>\n",
       "      <td>Lucille</td>\n",
       "      <td>66</td>\n",
       "    </tr>\n",
       "  </tbody>\n",
       "</table>\n",
       "</div>\n",
       "<font size=\"-1\">BigQueryDataFrame: state:str,gender:str,year:long,name:str,number:long</font>"
      ],
      "text/plain": [
       "<IPython.core.display.HTML object>"
      ]
     },
     "metadata": {},
     "output_type": "display_data"
    }
   ],
   "source": [
    "import fugue.api as fa\n",
    "\n",
    "fa.show((\"bq\",\"bigquery-public-data.usa_names.usa_1910_2013\"), n=5)"
   ]
  },
  {
   "cell_type": "code",
   "execution_count": 28,
   "metadata": {},
   "outputs": [
    {
     "data": {
      "text/html": [
       "<div>\n",
       "<style scoped>\n",
       "    .dataframe tbody tr th:only-of-type {\n",
       "        vertical-align: middle;\n",
       "    }\n",
       "\n",
       "    .dataframe tbody tr th {\n",
       "        vertical-align: top;\n",
       "    }\n",
       "\n",
       "    .dataframe thead th {\n",
       "        text-align: right;\n",
       "    }\n",
       "</style>\n",
       "<table border=\"1\" class=\"dataframe\">\n",
       "  <thead>\n",
       "    <tr style=\"text-align: right;\">\n",
       "      <th></th>\n",
       "      <th>ct:long</th>\n",
       "    </tr>\n",
       "  </thead>\n",
       "  <tbody>\n",
       "    <tr>\n",
       "      <th>0</th>\n",
       "      <td>5552452</td>\n",
       "    </tr>\n",
       "  </tbody>\n",
       "</table>\n",
       "</div>\n",
       "<font size=\"-1\">BigQueryDataFrame: ct:long</font>"
      ],
      "text/plain": [
       "<IPython.core.display.HTML object>"
      ]
     },
     "metadata": {},
     "output_type": "display_data"
    }
   ],
   "source": [
    "fa.show((\"bq\",\"SELECT COUNT(*) AS ct FROM `bigquery-public-data.usa_names.usa_1910_2013`\"))"
   ]
  }
 ],
 "metadata": {
  "kernelspec": {
   "display_name": "Python 3.8.16 ('fugue_bq')",
   "language": "python",
   "name": "python3"
  },
  "language_info": {
   "codemirror_mode": {
    "name": "ipython",
    "version": 3
   },
   "file_extension": ".py",
   "mimetype": "text/x-python",
   "name": "python",
   "nbconvert_exporter": "python",
   "pygments_lexer": "ipython3",
   "version": "3.8.16"
  },
  "orig_nbformat": 4,
  "vscode": {
   "interpreter": {
    "hash": "abded9470779c6919fe3fcf3858495217fd0e171aa0961031169e702bbf86984"
   }
  }
 },
 "nbformat": 4,
 "nbformat_minor": 2
}
