{
 "cells": [
  {
   "cell_type": "markdown",
   "source": [
    "# Joins\n",
    "\n",
    "In the previous section, we showed how to save and load dataframes, as well as manipulate a single DataFrame. Here, we'll show how to combine DataFrames through joins. The following joins are supported in Fugue: `LEFT OUTER`, `RIGHT OUTER`, `CROSS`, `LEFT SEMI`, `LEFT ANTI`, `INNER`, `FULL OUTER`. Most of these joins should be familiar, so this section will just be about providing examples on how to use them in Fugue.\n",
    "\n",
    "## Join and Renaming Columns\n",
    "\n",
    "Sometimes there will be a naming conflict with columns. In such situations, the `rename` method needs to be used like the code snippet below. The `join` method takes all of the join types mentioned above for the `how` argument. `on` takes a list of columns. The columns to join on can be inferred based on the columns, but explicitly specifying is better."
   ],
   "metadata": {}
  },
  {
   "cell_type": "code",
   "execution_count": 5,
   "source": [
    "from fugue import FugueWorkflow \n",
    "\n",
    "with FugueWorkflow() as dag:\n",
    "    df1=dag.df([[0,1],[1,2]],\"a:long,b:long\")\n",
    "    df2=dag.df([[1,1],[2,2]],\"a:long,b:long\")\n",
    "    # we will end up with two b columns so we need to rename one\n",
    "    df1.join(df2.rename({\"b\":\"c\"}),how=\"left_outer\", on=[\"a\"]).show()"
   ],
   "outputs": [
    {
     "output_type": "stream",
     "name": "stdout",
     "text": [
      "PandasDataFrame\n",
      "a:long|b:long|c:long\n",
      "------+------+------\n",
      "0     |1     |NULL  \n",
      "1     |2     |1     \n",
      "Total count: 2\n",
      "\n"
     ]
    }
   ],
   "metadata": {}
  },
  {
   "cell_type": "markdown",
   "source": [
    "## SQL vs Pandas Joins\n",
    "\n",
    "Joins in SQL and Pandas can have different outcomes. The clearest example of this is `None` joining with `None`. In such cases, Fugue is consistent with SQL and Spark rather than Pandas. Notice that column `a` has a row with None after the join below."
   ],
   "metadata": {}
  },
  {
   "cell_type": "code",
   "execution_count": 2,
   "source": [
    "import pandas as pd\n",
    "df1 = pd.DataFrame({'a': [None, \"a\"], 'b': [1, 2]})\n",
    "df2 = pd.DataFrame({'a': [None, \"a\"], 'b': [1, 2]})\n",
    "df1.merge(df2, how=\"inner\", on=[\"a\", \"b\"])"
   ],
   "outputs": [
    {
     "output_type": "execute_result",
     "data": {
      "text/plain": [
       "      a  b\n",
       "0  None  1\n",
       "1     a  2"
      ],
      "text/html": [
       "<div>\n",
       "<style scoped>\n",
       "    .dataframe tbody tr th:only-of-type {\n",
       "        vertical-align: middle;\n",
       "    }\n",
       "\n",
       "    .dataframe tbody tr th {\n",
       "        vertical-align: top;\n",
       "    }\n",
       "\n",
       "    .dataframe thead th {\n",
       "        text-align: right;\n",
       "    }\n",
       "</style>\n",
       "<table border=\"1\" class=\"dataframe\">\n",
       "  <thead>\n",
       "    <tr style=\"text-align: right;\">\n",
       "      <th></th>\n",
       "      <th>a</th>\n",
       "      <th>b</th>\n",
       "    </tr>\n",
       "  </thead>\n",
       "  <tbody>\n",
       "    <tr>\n",
       "      <th>0</th>\n",
       "      <td>None</td>\n",
       "      <td>1</td>\n",
       "    </tr>\n",
       "    <tr>\n",
       "      <th>1</th>\n",
       "      <td>a</td>\n",
       "      <td>2</td>\n",
       "    </tr>\n",
       "  </tbody>\n",
       "</table>\n",
       "</div>"
      ]
     },
     "metadata": {},
     "execution_count": 2
    }
   ],
   "metadata": {}
  },
  {
   "cell_type": "markdown",
   "source": [
    "With Fugue, the row with None will be dropped because it follows SQL convention."
   ],
   "metadata": {}
  },
  {
   "cell_type": "code",
   "execution_count": 3,
   "source": [
    "with FugueWorkflow() as dag:\n",
    "    df1=dag.df([[None,1],[\"a\",2]],\"a:str,b:long\")\n",
    "    df2=dag.df([[None,1],[\"a\",2]],\"a:str,b:long\")\n",
    "    df1.join(df2, how=\"inner\", on=[\"a\",\"b\"]).show() # None,1 is excluded"
   ],
   "outputs": [
    {
     "output_type": "stream",
     "name": "stdout",
     "text": [
      "PandasDataFrame\n",
      "a:str|b:long\n",
      "-----+------\n",
      "a    |2     \n",
      "Total count: 1\n",
      "\n"
     ]
    }
   ],
   "metadata": {}
  },
  {
   "cell_type": "markdown",
   "source": [
    "## Multiple Joins\n",
    "\n",
    "Multiple DataFrames can be joined together if there is no conflict."
   ],
   "metadata": {}
  },
  {
   "cell_type": "code",
   "execution_count": 4,
   "source": [
    "from fugue import FugueWorkflow\n",
    "\n",
    "with FugueWorkflow() as dag:\n",
    "    df1=dag.df([[None,1],[\"a\",2]],\"a:str,b:long\")\n",
    "    df2=dag.df([[None,1],[\"a\",3]],\"a:str,c:long\")\n",
    "    df3=dag.df([[None,1],[\"a\",4]],\"a:str,d:long\")\n",
    "    df4=dag.df([[None,1],[\"a\",5]],\"a:str,e:long\")\n",
    "    df1.join(df2, df3, df4, how=\"inner\", on=[\"a\"]).show()"
   ],
   "outputs": [
    {
     "output_type": "stream",
     "name": "stdout",
     "text": [
      "PandasDataFrame\n",
      "a:str|b:long|c:long|d:long|e:long\n",
      "-----+------+------+------+------\n",
      "a    |2     |3     |4     |5     \n",
      "Total count: 1\n",
      "\n"
     ]
    }
   ],
   "metadata": {}
  },
  {
   "cell_type": "markdown",
   "source": [
    "## Union, Intersect, Subtract\n",
    "\n",
    "Fugue has support for Union, Intersect and Subtract. Union combines two DataFrames with the same columns. By default, only unique items are kept. Everything can be kept by setting `distinct=False`. Intersect gets the distinct elements of the intersection of the two DataFrames. Subtract gets the distinct elements of the left DataFrame that are not in the right DataFrame. Examples shown below. "
   ],
   "metadata": {}
  },
  {
   "cell_type": "code",
   "execution_count": 5,
   "source": [
    "with FugueWorkflow() as dag:\n",
    "    df1=dag.df([[0,1],[1,2]],\"a:long,b:long\")\n",
    "    df2=dag.df([[0,1],[0,1],[2,2]],\"a:long,b:long\")\n",
    "    df1.union(df2).show(title=\"Union\")                    \n",
    "    df1.union(df2, distinct=False).show(title=\"Union All\")\n",
    "    df1.intersect(df2).show(title=\"Intersect Distinct\")\n",
    "    df1.subtract(df2).show(title=\"Except Dictinct\")"
   ],
   "outputs": [
    {
     "output_type": "stream",
     "name": "stdout",
     "text": [
      "Union\n",
      "PandasDataFrame\n",
      "a:long|b:long\n",
      "------+------\n",
      "0     |1     \n",
      "1     |2     \n",
      "2     |2     \n",
      "Total count: 3\n",
      "\n",
      "Union All\n",
      "PandasDataFrame\n",
      "a:long|b:long\n",
      "------+------\n",
      "0     |1     \n",
      "1     |2     \n",
      "0     |1     \n",
      "0     |1     \n",
      "2     |2     \n",
      "Total count: 5\n",
      "\n",
      "Intersect Distinct\n",
      "PandasDataFrame\n",
      "a:long|b:long\n",
      "------+------\n",
      "0     |1     \n",
      "Total count: 1\n",
      "\n",
      "Except Dictinct\n",
      "PandasDataFrame\n",
      "a:long|b:long\n",
      "------+------\n",
      "1     |2     \n",
      "Total count: 1\n",
      "\n"
     ]
    }
   ],
   "metadata": {}
  },
  {
   "cell_type": "markdown",
   "source": [
    "## Summary\n",
    "\n",
    "This sections covers all of the base operations Fugue offers when combining two or more DataFrames. If there is logic that is not covered by this functionality, then a user can implement a custom Fugue extension and use it in a FugueWorkflow. The `transformer` we covered in previous sections is the most commonly used Fugue extension. In the next section, we'll cover the other extensions."
   ],
   "metadata": {}
  }
 ],
 "metadata": {
  "kernelspec": {
   "display_name": "Python 3.7.9 64-bit ('fugue-tutorials': conda)",
   "metadata": {
    "interpreter": {
     "hash": "131b24c7e1bb8763ab2b04d5b6d98a68c7b3a823a2a57c5722935f7690890f70"
    }
   },
   "name": "python3"
  },
  "language_info": {
   "codemirror_mode": {
    "name": "ipython",
    "version": 3
   },
   "file_extension": ".py",
   "mimetype": "text/x-python",
   "name": "python",
   "nbconvert_exporter": "python",
   "pygments_lexer": "ipython3",
   "version": "3.7.9"
  },
  "orig_nbformat": 2
 },
 "nbformat": 4,
 "nbformat_minor": 2
}