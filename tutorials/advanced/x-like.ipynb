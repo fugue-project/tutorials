{
 "cells": [
  {
   "cell_type": "markdown",
   "metadata": {},
   "source": [
    "# X-like Objects\n",
    "\n",
    "Have questions? Chat with us on Github or Slack:\n",
    "\n",
    "[![Homepage](https://img.shields.io/badge/fugue-source--code-red?logo=github)](https://github.com/fugue-project/fugue)\n",
    "[![Slack Status](https://img.shields.io/badge/slack-join_chat-white.svg?logo=slack&style=social)](http://slack.fugue.ai)\n",
    "\n",
    "In Fugue, it's flexibile to initialize many built-in objects. This is a tutorial for all of them.\n",
    "\n",
    "## Schema\n",
    "\n",
    "Fugue creates a special syntax to represent schema: Separated by `,`, each column type pair is `<name>:<type expression>`\n",
    "\n",
    "For example: `a:int,b:str` or `a:int,b_array:[int],c_dict:{x:int,y:str}`"
   ]
  },
  {
   "cell_type": "code",
   "execution_count": 1,
   "metadata": {},
   "outputs": [
    {
     "name": "stdout",
     "output_type": "stream",
     "text": [
      "a:int,b:str\n",
      "a:int,b_array:[long],c_dict:{x:int,y:str}\n",
      "pa schema a: int32\n",
      "b: string\n",
      "a:int,b:str\n",
      "c:str,d:long\n",
      "c:str,d:long\n",
      "e:str,f:str\n",
      "e:str,f:str,g:long\n",
      "a:int,b:str\n"
     ]
    }
   ],
   "source": [
    "from fugue import Schema\n",
    "\n",
    "print(Schema(\"a:int,b:str\"))\n",
    "print(Schema(\"a:int32,b_array:[int64],c_dict:{x:int,y:string}\"))\n",
    "\n",
    "# get pyarrow schema\n",
    "schema = Schema(\" a : int , b : str\") # space is ok\n",
    "print(\"pa schema\", schema.pa_schema)\n",
    "\n",
    "# more ways to initialized fugue Schema\n",
    "print(Schema(schema.pa_schema)) # by pyarrow schema\n",
    "print(Schema(c=str,d=int)) # pythonic way\n",
    "print(Schema(dict(c=str,d=int))) # pythonic way\n",
    "print(Schema(\"e:str\",\"f:str\")) # you can separate\n",
    "print(Schema([\"e:str\",\"f:str\"], (\"g\",int))) # you can separate, notice int in python means long in schema\n",
    "print(Schema(Schema(\"a:int\",\"b:str\"))) # you can separate"
   ]
  },
  {
   "cell_type": "markdown",
   "metadata": {},
   "source": [
    "## Partition"
   ]
  },
  {
   "cell_type": "code",
   "execution_count": 2,
   "metadata": {},
   "outputs": [
    {
     "data": {
      "text/plain": [
       "PartitionSpec(num='4', by=['a', 'b'], presort='')"
      ]
     },
     "execution_count": 2,
     "metadata": {},
     "output_type": "execute_result"
    }
   ],
   "source": [
    "from fugue import PartitionSpec\n",
    "\n",
    "assert PartitionSpec().empty # empty partition spec means no operation needed, it can be the default value\n",
    "PartitionSpec(num=4)\n",
    "PartitionSpec(algo=\"even\",num=4,by=[\"a\",\"b\"],presort=\"c,d desc\") # c,d desc == c ASC, d DESC\n",
    "\n",
    "# you can use expression in num, ROWCOUNT can be used to indicate using the row count of the dataframe to operate on\n",
    "# if a df has 1000 rows, this means I want to even partition it to 10 rows per partition\n",
    "PartitionSpec(algo=\"even\",num=\"ROWCOUNT/10\")\n",
    "\n",
    "PartitionSpec({\"num\":4, \"by\":[\"a\",\"b\"]}) # from dict, using dict on `partition-like`  parameters is common\n",
    "PartitionSpec('{\"num\":4}') # from json\n",
    "\n",
    "a = PartitionSpec(num=4)\n",
    "b = PartitionSpec(by=[\"a\"])\n",
    "c = PartitionSpec(a,b) # combine\n",
    "\n",
    "p = PartitionSpec(num=4, by=[\"a\"])\n",
    "PartitionSpec(p, by=[\"a\",\"b\"], algo=\"even\") # override"
   ]
  },
  {
   "cell_type": "markdown",
   "metadata": {},
   "source": [
    "## RPC\n",
    "\n",
    "For callbacks you defined for transformers, you can provide a lambda function, a native python function, or an instance implementing [RPCHandler](https://fugue.readthedocs.io/en/latest/api/fugue.rpc.html#fugue.rpc.base.RPCHandler)"
   ]
  },
  {
   "cell_type": "code",
   "execution_count": 4,
   "metadata": {},
   "outputs": [
    {
     "name": "stdout",
     "output_type": "stream",
     "text": [
      "Index(['a', 'b'], dtype='object')\n",
      "Index(['a', 'b'], dtype='object')\n",
      "Index(['a', 'b'], dtype='object')\n",
      "Index(['a', 'b'], dtype='object')\n",
      "Index(['a', 'b'], dtype='object')\n",
      "Index(['a', 'b'], dtype='object')\n",
      "Index(['a', 'b'], dtype='object')\n",
      "Index(['a', 'b'], dtype='object')\n",
      "Index(['a', 'b'], dtype='object')\n"
     ]
    },
    {
     "data": {
      "text/html": [
       "<div>\n",
       "<style scoped>\n",
       "    .dataframe tbody tr th:only-of-type {\n",
       "        vertical-align: middle;\n",
       "    }\n",
       "\n",
       "    .dataframe tbody tr th {\n",
       "        vertical-align: top;\n",
       "    }\n",
       "\n",
       "    .dataframe thead th {\n",
       "        text-align: right;\n",
       "    }\n",
       "</style>\n",
       "<table border=\"1\" class=\"dataframe\">\n",
       "  <thead>\n",
       "    <tr style=\"text-align: right;\">\n",
       "      <th></th>\n",
       "      <th>a</th>\n",
       "      <th>b</th>\n",
       "    </tr>\n",
       "  </thead>\n",
       "  <tbody>\n",
       "    <tr>\n",
       "      <th>0</th>\n",
       "      <td>0</td>\n",
       "      <td>0</td>\n",
       "    </tr>\n",
       "    <tr>\n",
       "      <th>1</th>\n",
       "      <td>0</td>\n",
       "      <td>1</td>\n",
       "    </tr>\n",
       "    <tr>\n",
       "      <th>2</th>\n",
       "      <td>1</td>\n",
       "      <td>1</td>\n",
       "    </tr>\n",
       "    <tr>\n",
       "      <th>3</th>\n",
       "      <td>2</td>\n",
       "      <td>2</td>\n",
       "    </tr>\n",
       "  </tbody>\n",
       "</table>\n",
       "</div>"
      ],
      "text/plain": [
       "   a  b\n",
       "0  0  0\n",
       "1  0  1\n",
       "2  1  1\n",
       "3  2  2"
      ]
     },
     "execution_count": 4,
     "metadata": {},
     "output_type": "execute_result"
    }
   ],
   "source": [
    "import pandas as pd\n",
    "import fugue.api as fa\n",
    "from fugue.rpc import RPCHandler\n",
    "\n",
    "def print_columns_and_return(df:pd.DataFrame, cb:callable) -> pd.DataFrame:\n",
    "    cb(str(df.columns))\n",
    "    return df\n",
    "\n",
    "def pt(x):\n",
    "    print(x)\n",
    "\n",
    "# RPCHandler\n",
    "class Handler(RPCHandler):\n",
    "    def __init__(self):\n",
    "        super().__init__()\n",
    "        \n",
    "    def __call__(self, x):\n",
    "        print(x)\n",
    "\n",
    "df = pd.DataFrame([[0,0],[1,1],[0,1],[2,2]], columns=[\"a\",\"b\"])\n",
    "\n",
    "# lambda\n",
    "fa.transform(df, print_columns_and_return, schema=\"*\", partition={\"by\": \"a\"}, callback = lambda x:print(x))\n",
    "\n",
    "# function\n",
    "fa.transform(df, print_columns_and_return, schema=\"*\", partition={\"by\": \"a\"}, callback = pt)\n",
    "\n",
    "# RPCHandler class\n",
    "fa.transform(df, print_columns_and_return, schema=\"*\", partition={\"by\": \"a\"}, callback = Handler())"
   ]
  }
 ],
 "metadata": {
  "kernelspec": {
   "display_name": "Python 3.8.9 64-bit",
   "language": "python",
   "name": "python3"
  },
  "language_info": {
   "codemirror_mode": {
    "name": "ipython",
    "version": 3
   },
   "file_extension": ".py",
   "mimetype": "text/x-python",
   "name": "python",
   "nbconvert_exporter": "python",
   "pygments_lexer": "ipython3",
   "version": "3.8.13"
  },
  "vscode": {
   "interpreter": {
    "hash": "31f2aee4e71d21fbe5cf8b01ff0e069b9275f58929596ceb00d14d90e3e16cd6"
   }
  }
 },
 "nbformat": 4,
 "nbformat_minor": 4
}
